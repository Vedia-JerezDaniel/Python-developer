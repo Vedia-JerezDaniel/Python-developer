{
 "cells": [
  {
   "cell_type": "code",
   "execution_count": 2,
   "id": "409bf6ae-d8dd-4519-9101-1a7b85f174f1",
   "metadata": {},
   "outputs": [
    {
     "data": {
      "application/vnd.jupyter.widget-view+json": {
       "model_id": "c7bfbf3f1eea405a9ef41bedb29f0eac",
       "version_major": 2,
       "version_minor": 0
      },
      "text/plain": [
       "FileUpload(value={}, description='Upload')"
      ]
     },
     "metadata": {},
     "output_type": "display_data"
    }
   ],
   "source": [
    "import ipywidgets as widgets\n",
    "from IPython.display import display\n",
    "\n",
    "uploader = widgets.FileUpload()\n",
    "display(uploader)\n",
    "\n"
   ]
  },
  {
   "cell_type": "code",
   "execution_count": 3,
   "id": "297919ea-cb30-41f9-862a-af82023ecd5e",
   "metadata": {},
   "outputs": [
    {
     "name": "stdout",
     "output_type": "stream",
     "text": [
      "('125', '12', '45', '748', '845', '486', '45', '48', '15')\n"
     ]
    }
   ],
   "source": [
    "if uploader.value:\n",
    "    text_file = list(uploader.value.values())[0]\n",
    "    content = text_file['content'].decode(\"utf-8\")\n",
    "    values = tuple(map(int, content.strip().split('\\n')))\n",
    "    values_comma_sep = tuple(','.join(map(str, values)).split(','))\n",
    "\n",
    "    print(values_comma_sep)"
   ]
  },
  {
   "cell_type": "code",
   "execution_count": 4,
   "id": "241dd4a6-e7fa-428d-be9a-4790f5d72632",
   "metadata": {},
   "outputs": [
    {
     "data": {
      "text/plain": [
       "(125, 12, 45, 748, 845, 486, 45, 48, 15)"
      ]
     },
     "execution_count": 4,
     "metadata": {},
     "output_type": "execute_result"
    }
   ],
   "source": [
    "tuple(int(i) for i in values_comma_sep)"
   ]
  }
 ],
 "metadata": {
  "kernelspec": {
   "display_name": "Python 3 (ipykernel)",
   "language": "python",
   "name": "python3"
  },
  "language_info": {
   "codemirror_mode": {
    "name": "ipython",
    "version": 3
   },
   "file_extension": ".py",
   "mimetype": "text/x-python",
   "name": "python",
   "nbconvert_exporter": "python",
   "pygments_lexer": "ipython3",
   "version": "3.10.9"
  }
 },
 "nbformat": 4,
 "nbformat_minor": 5
}
