{
 "cells": [
  {
   "attachments": {},
   "cell_type": "markdown",
   "metadata": {},
   "source": [
    "# Python f-strings Are More Powerful Than You Might Think"
   ]
  },
  {
   "cell_type": "code",
   "execution_count": 1,
   "metadata": {},
   "outputs": [
    {
     "name": "stdout",
     "output_type": "stream",
     "text": [
      "2023-03-04\n",
      "2023\n"
     ]
    }
   ],
   "source": [
    "import datetime\n",
    "today = datetime.datetime.now()\n",
    "print(f\"{today:%Y-%m-%d}\")\n",
    "# 2022-03-11\n",
    "print(f\"{today:%Y}\")"
   ]
  },
  {
   "cell_type": "code",
   "execution_count": 2,
   "metadata": {},
   "outputs": [
    {
     "name": "stdout",
     "output_type": "stream",
     "text": [
      "x = 10, y = 25\n",
      "x = 10, y = 25\n",
      "x = 10.000\n"
     ]
    }
   ],
   "source": [
    "x = 10\n",
    "y = 25\n",
    "print(f\"x = {x}, y = {y}\")\n",
    "# x = 10, y = 25\n",
    "print(f\"{x = }, {y = }\")  # Better! (3.8+)\n",
    "# x = 10, y = 25\n",
    "\n",
    "print(f\"{x = :.3f}\")"
   ]
  },
  {
   "cell_type": "code",
   "execution_count": 3,
   "metadata": {},
   "outputs": [
    {
     "name": "stdout",
     "output_type": "stream",
     "text": [
      "John Doe\n",
      "User's name is: John Doe\n"
     ]
    }
   ],
   "source": [
    "class User:\n",
    "    def __init__(self, first_name, last_name):\n",
    "        self.first_name = first_name\n",
    "        self.last_name = last_name\n",
    "\n",
    "    def __str__(self):\n",
    "        return f\"{self.first_name} {self.last_name}\"\n",
    "\n",
    "    def __repr__(self):\n",
    "        return f\"User's name is: {self.first_name} {self.last_name}\"\n",
    "    \n",
    "    \"\"\"When printing class instances, __str__ method of the class is used by default for string representation. If we however want to force usage of __repr__, we can use the !r conversion flag:\n",
    "    \"\"\"    \n",
    "\n",
    "user = User(\"John\", \"Doe\")\n",
    "print(f\"{user}\")\n",
    "# John Doe\n",
    "print(f\"{user!r}\")\n",
    "# User's name is: John Doe"
   ]
  },
  {
   "cell_type": "code",
   "execution_count": 4,
   "metadata": {},
   "outputs": [
    {
     "name": "stdout",
     "output_type": "stream",
     "text": [
      "Hello World\n",
      "Hello World\n",
      "Hello World\n",
      "Hello World\n",
      "Hello World\n",
      "Hello World\n"
     ]
    }
   ],
   "source": [
    "from string import Template\n",
    "\n",
    "x, y = \"Hello\", \"World\"\n",
    "\n",
    "print(f\"{x} {y}\")  # 39.6 nsec per loop - Fast!\n",
    "print(x + \" \" + y)  # 43.5 nsec per loop\n",
    "print(\" \".join((x, y)))  # 58.1 nsec per loop\n",
    "print(\"%s %s\" % (x, y))  # 103 nsec per loop\n",
    "print(\"{} {}\".format(x, y))  # 141 nsec per loop\n",
    "print(Template(\"$x $y\").substitute(x=x, y=y))  # 1.24 usec per loop - Slow!"
   ]
  },
  {
   "cell_type": "code",
   "execution_count": 6,
   "metadata": {},
   "outputs": [
    {
     "name": "stdout",
     "output_type": "stream",
     "text": [
      "  HELLO WORLD  \n",
      "1,234,567,890\n",
      "00000123\n"
     ]
    }
   ],
   "source": [
    "text = \"hello world\".upper()\n",
    "# Center text:\n",
    "print(f\"{text:^15}\")\n",
    "# '  hello world  '\n",
    "\n",
    "number = 1234567890\n",
    "# Set separator\n",
    "print(f\"{number:,}\")\n",
    "# 1,234,567,890\n",
    "\n",
    "number = 123\n",
    "# Add leading zeros\n",
    "print(f\"{number:08}\")\n",
    "# 00000123"
   ]
  },
  {
   "cell_type": "code",
   "execution_count": 9,
   "metadata": {},
   "outputs": [
    {
     "name": "stdout",
     "output_type": "stream",
     "text": [
      "  $254.346\n"
     ]
    }
   ],
   "source": [
    "number = 254.3463\n",
    "print(f\"{f'${number:.3f}':>10}\")\n",
    "# '  $254.346'"
   ]
  },
  {
   "cell_type": "code",
   "execution_count": 12,
   "metadata": {},
   "outputs": [
    {
     "name": "stdout",
     "output_type": "stream",
     "text": [
      "output:    42.12\n"
     ]
    }
   ],
   "source": [
    "import decimal\n",
    "\n",
    "width = 8 # width of the field (espacio)\n",
    "precision = 4\n",
    "value = decimal.Decimal(\"42.12345\")\n",
    "\n",
    "print(f\"output: {value:{width}.{precision}}\")"
   ]
  },
  {
   "cell_type": "code",
   "execution_count": 20,
   "metadata": {},
   "outputs": [
    {
     "name": "stdout",
     "output_type": "stream",
     "text": [
      "Result: 42.12\n",
      "Result:   142.12\n"
     ]
    }
   ],
   "source": [
    "value = decimal.Decimal(\"42.12345\")\n",
    "print(f'Result: {value:{\"4.4\" if value < 100 else \"8.4\"}}')\n",
    "# Result: 42.1\n",
    "\n",
    "value = decimal.Decimal(\"142.12345\")\n",
    "print(f'Result: {value:{\"4.4\" if value < 100 else \"8.5\"}}')"
   ]
  },
  {
   "cell_type": "code",
   "execution_count": 26,
   "metadata": {},
   "outputs": [
    {
     "name": "stdout",
     "output_type": "stream",
     "text": [
      "256\n"
     ]
    }
   ],
   "source": [
    "print(f\"{(lambda x: x**2)(16)}\")"
   ]
  }
 ],
 "metadata": {
  "kernelspec": {
   "display_name": "fb",
   "language": "python",
   "name": "fb"
  },
  "language_info": {
   "codemirror_mode": {
    "name": "ipython",
    "version": 3
   },
   "file_extension": ".py",
   "mimetype": "text/x-python",
   "name": "python",
   "nbconvert_exporter": "python",
   "pygments_lexer": "ipython3",
   "version": "3.11.0"
  },
  "orig_nbformat": 4
 },
 "nbformat": 4,
 "nbformat_minor": 2
}
