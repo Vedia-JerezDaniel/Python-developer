{
 "cells": [
  {
   "cell_type": "code",
   "execution_count": 1,
   "metadata": {},
   "outputs": [],
   "source": [
    "# Parallel Computing\n",
    "\n",
    "import multiprocessing as mp\n",
    "from joblib import Parallel, delayed\n",
    "from tqdm.notebook import tqdm\n",
    "\n",
    "# Data Ingestion \n",
    "import pandas as pd\n",
    "# Text Processing \n",
    "import re \n",
    "from nltk.corpus import stopwords\n",
    "import string"
   ]
  },
  {
   "cell_type": "code",
   "execution_count": 2,
   "metadata": {},
   "outputs": [
    {
     "name": "stdout",
     "output_type": "stream",
     "text": [
      "8 workers are available\n"
     ]
    }
   ],
   "source": [
    "n_workers =  mp.cpu_count()*2\n",
    "\n",
    "print(f\"{n_workers} workers are available\")"
   ]
  },
  {
   "cell_type": "code",
   "execution_count": 3,
   "metadata": {},
   "outputs": [
    {
     "name": "stdout",
     "output_type": "stream",
     "text": [
      "Shape:(2845342, 47)\n",
      "\n",
      "Column Names:\n",
      "Index(['ID', 'Severity', 'Start_Time', 'End_Time', 'Start_Lat', 'Start_Lng',\n",
      "       'End_Lat', 'End_Lng', 'Distance(mi)', 'Description', 'Number', 'Street',\n",
      "       'Side', 'City', 'County', 'State', 'Zipcode', 'Country', 'Timezone',\n",
      "       'Airport_Code', 'Weather_Timestamp', 'Temperature(F)', 'Wind_Chill(F)',\n",
      "       'Humidity(%)', 'Pressure(in)', 'Visibility(mi)', 'Wind_Direction',\n",
      "       'Wind_Speed(mph)', 'Precipitation(in)', 'Weather_Condition', 'Amenity',\n",
      "       'Bump', 'Crossing', 'Give_Way', 'Junction', 'No_Exit', 'Railway',\n",
      "       'Roundabout', 'Station', 'Stop', 'Traffic_Calming', 'Traffic_Signal',\n",
      "       'Turning_Loop', 'Sunrise_Sunset', 'Civil_Twilight', 'Nautical_Twilight',\n",
      "       'Astronomical_Twilight'],\n",
      "      dtype='object')\n",
      "\n",
      "CPU times: total: 31.8 s\n",
      "Wall time: 34.8 s\n"
     ]
    }
   ],
   "source": [
    "\n",
    "%%time\n",
    "file_name= r\"C:\\Users\\canut\\Desktop\\archive\\US_Accidents.csv\"\n",
    "df = pd.read_csv(file_name)\n",
    "\n",
    "print(f\"Shape:{df.shape}\\n\\nColumn Names:\\n{df.columns}\\n\")"
   ]
  },
  {
   "cell_type": "code",
   "execution_count": 9,
   "metadata": {},
   "outputs": [],
   "source": [
    "df =df.sample(frac=0.5, replace=True, random_state=1)"
   ]
  },
  {
   "cell_type": "code",
   "execution_count": 10,
   "metadata": {},
   "outputs": [],
   "source": [
    "def clean_text(text): \n",
    "  # Remove stop words\n",
    "  stops = stopwords.words(\"english\")\n",
    "  text = \" \".join([word for word in text.split() if word \n",
    "  not in stops])\n",
    "  # Remove Special Characters\n",
    "  text = text.translate(str.maketrans('', '', string.punctuation))\n",
    "  return re.sub(' +',' ', text)"
   ]
  },
  {
   "cell_type": "code",
   "execution_count": null,
   "metadata": {},
   "outputs": [],
   "source": [
    "%time\n",
    "tqdm.pandas()\n",
    "df['Description'] = df['Description'].progress_apply(clean_text)\n",
    "\n",
    "df.head()"
   ]
  },
  {
   "cell_type": "code",
   "execution_count": null,
   "metadata": {},
   "outputs": [],
   "source": [
    "def text_parallel_clean(array):\n",
    "  return Parallel(\n",
    "      n_jobs=n_workers, backend=\"multiprocessing\")(\n",
    "          delayed(clean_text)(text) for text in tqdm(array))"
   ]
  },
  {
   "cell_type": "code",
   "execution_count": 7,
   "metadata": {},
   "outputs": [],
   "source": [
    "%%time\n",
    "df['Description'] = text_parallel_clean(df['Description'])"
   ]
  },
  {
   "cell_type": "code",
   "execution_count": null,
   "metadata": {},
   "outputs": [],
   "source": [
    "def proc_batch(batch):\n",
    "  return [clean_text(text) for text in batch]"
   ]
  },
  {
   "cell_type": "code",
   "execution_count": null,
   "metadata": {},
   "outputs": [],
   "source": [
    "def batch_file(array,n_workers):\n",
    "  file_len = len(array)\n",
    "  batch_size = round(file_len / n_workers)\n",
    "  return [\n",
    "      array[i:i + batch_size] for i in tqdm(range(0, file_len, batch_size))\n",
    "  ]\n",
    "\n",
    "batches = batch_file(df['Description'],n_workers)"
   ]
  },
  {
   "cell_type": "code",
   "execution_count": null,
   "metadata": {},
   "outputs": [],
   "source": [
    "%%time\n",
    "batch_output = Parallel(n_jobs=n_workers,backend=\"multiprocessing\")(\n",
    "  delayed(proc_batch) (batch) for batch in tqdm(batches))\n",
    "\n",
    "df['Description'] = [j for i in batch_output for j in i]"
   ]
  },
  {
   "cell_type": "code",
   "execution_count": null,
   "metadata": {},
   "outputs": [],
   "source": [
    "%%time\n",
    "from tqdm.contrib.concurrent import process_map\n",
    "batch = round(len(df)/n_workers)\n",
    "\n",
    "df['Description'] = process_map(clean_text,df['Description'], max_workers=n_workers, chunksize=batch)"
   ]
  },
  {
   "cell_type": "code",
   "execution_count": null,
   "metadata": {},
   "outputs": [],
   "source": []
  },
  {
   "cell_type": "code",
   "execution_count": null,
   "metadata": {},
   "outputs": [],
   "source": []
  }
 ],
 "metadata": {
  "kernelspec": {
   "display_name": "base",
   "language": "python",
   "name": "python3"
  },
  "language_info": {
   "codemirror_mode": {
    "name": "ipython",
    "version": 3
   },
   "file_extension": ".py",
   "mimetype": "text/x-python",
   "name": "python",
   "nbconvert_exporter": "python",
   "pygments_lexer": "ipython3",
   "version": "3.9.16"
  },
  "orig_nbformat": 4,
  "vscode": {
   "interpreter": {
    "hash": "6c22f4ba516cddb1ff889c0d6c6a026d65d284fc0b64f12eeb02baa7f5832757"
   }
  }
 },
 "nbformat": 4,
 "nbformat_minor": 2
}
