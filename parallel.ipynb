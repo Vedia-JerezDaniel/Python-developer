{
 "cells": [
  {
   "cell_type": "code",
   "execution_count": 1,
   "metadata": {},
   "outputs": [
    {
     "name": "stderr",
     "output_type": "stream",
     "text": [
      "[nltk_data] Downloading package stopwords to /home/dani/nltk_data...\n",
      "[nltk_data]   Package stopwords is already up-to-date!\n"
     ]
    },
    {
     "data": {
      "text/plain": [
       "True"
      ]
     },
     "execution_count": 1,
     "metadata": {},
     "output_type": "execute_result"
    }
   ],
   "source": [
    "# Parallel Computing\n",
    "\n",
    "import multiprocessing as mp\n",
    "from joblib import Parallel, delayed\n",
    "from tqdm.notebook import tqdm\n",
    "\n",
    "# Data Ingestion \n",
    "import pandas as pd\n",
    "# Text Processing \n",
    "import re \n",
    "from nltk.corpus import stopwords\n",
    "import string\n",
    "\n",
    "import nltk\n",
    "nltk.download('stopwords')"
   ]
  },
  {
   "cell_type": "code",
   "execution_count": 2,
   "metadata": {},
   "outputs": [
    {
     "name": "stdout",
     "output_type": "stream",
     "text": [
      "8 workers are available\n"
     ]
    }
   ],
   "source": [
    "n_workers =  mp.cpu_count()*2\n",
    "\n",
    "print(f\"{n_workers} workers are available\")"
   ]
  },
  {
   "cell_type": "code",
   "execution_count": 3,
   "metadata": {},
   "outputs": [
    {
     "name": "stdout",
     "output_type": "stream",
     "text": [
      "Shape:(1422671, 47)\n",
      "\n",
      "Column Names:\n",
      "Index(['ID', 'Severity', 'Start_Time', 'End_Time', 'Start_Lat', 'Start_Lng',\n",
      "       'End_Lat', 'End_Lng', 'Distance(mi)', 'Description', 'Number', 'Street',\n",
      "       'Side', 'City', 'County', 'State', 'Zipcode', 'Country', 'Timezone',\n",
      "       'Airport_Code', 'Weather_Timestamp', 'Temperature(F)', 'Wind_Chill(F)',\n",
      "       'Humidity(%)', 'Pressure(in)', 'Visibility(mi)', 'Wind_Direction',\n",
      "       'Wind_Speed(mph)', 'Precipitation(in)', 'Weather_Condition', 'Amenity',\n",
      "       'Bump', 'Crossing', 'Give_Way', 'Junction', 'No_Exit', 'Railway',\n",
      "       'Roundabout', 'Station', 'Stop', 'Traffic_Calming', 'Traffic_Signal',\n",
      "       'Turning_Loop', 'Sunrise_Sunset', 'Civil_Twilight', 'Nautical_Twilight',\n",
      "       'Astronomical_Twilight'],\n",
      "      dtype='object')\n",
      "\n",
      "CPU times: user 1min, sys: 6.14 s, total: 1min 6s\n",
      "Wall time: 4min 11s\n"
     ]
    }
   ],
   "source": [
    "%%time\n",
    "\n",
    "file_name= r\"/home/dani/Desktop/US_Accidents.csv\"\n",
    "df = pd.read_csv(file_name)\n",
    "df =df.sample(frac=0.5, replace=True, random_state=1)\n",
    "\n",
    "print(f\"Shape:{df.shape}\\n\\nColumn Names:\\n{df.columns}\\n\")"
   ]
  },
  {
   "cell_type": "code",
   "execution_count": 4,
   "metadata": {},
   "outputs": [],
   "source": [
    "def clean_text(text): \n",
    "  # Remove stop words\n",
    "  stops = stopwords.words(\"english\")\n",
    "  text = \" \".join([word for word in text.split() if word \n",
    "  not in stops])\n",
    "  # Remove Special Characters\n",
    "  text = text.translate(str.maketrans('', '', string.punctuation))\n",
    "  return re.sub(' +',' ', text)"
   ]
  },
  {
   "cell_type": "markdown",
   "metadata": {},
   "source": [
    "### Pandas operation"
   ]
  },
  {
   "cell_type": "code",
   "execution_count": 5,
   "metadata": {},
   "outputs": [
    {
     "data": {
      "application/vnd.jupyter.widget-view+json": {
       "model_id": "9c56d15d827747df847c3e8f43ad39ec",
       "version_major": 2,
       "version_minor": 0
      },
      "text/plain": [
       "  0%|          | 0/1422671 [00:00<?, ?it/s]"
      ]
     },
     "metadata": {},
     "output_type": "display_data"
    },
    {
     "name": "stdout",
     "output_type": "stream",
     "text": [
      "CPU times: user 5min 1s, sys: 25.8 s, total: 5min 27s\n",
      "Wall time: 5min 27s\n"
     ]
    },
    {
     "data": {
      "text/html": [
       "<div>\n",
       "<style scoped>\n",
       "    .dataframe tbody tr th:only-of-type {\n",
       "        vertical-align: middle;\n",
       "    }\n",
       "\n",
       "    .dataframe tbody tr th {\n",
       "        vertical-align: top;\n",
       "    }\n",
       "\n",
       "    .dataframe thead th {\n",
       "        text-align: right;\n",
       "    }\n",
       "</style>\n",
       "<table border=\"1\" class=\"dataframe\">\n",
       "  <thead>\n",
       "    <tr style=\"text-align: right;\">\n",
       "      <th></th>\n",
       "      <th>ID</th>\n",
       "      <th>Severity</th>\n",
       "      <th>Start_Time</th>\n",
       "      <th>End_Time</th>\n",
       "      <th>Start_Lat</th>\n",
       "      <th>Start_Lng</th>\n",
       "      <th>End_Lat</th>\n",
       "      <th>End_Lng</th>\n",
       "      <th>Distance(mi)</th>\n",
       "      <th>Description</th>\n",
       "      <th>...</th>\n",
       "      <th>Station</th>\n",
       "      <th>Stop</th>\n",
       "      <th>Traffic_Calming</th>\n",
       "      <th>Traffic_Signal</th>\n",
       "      <th>Turning_Loop</th>\n",
       "      <th>Sunrise_Sunset</th>\n",
       "      <th>Civil_Twilight</th>\n",
       "      <th>Nautical_Twilight</th>\n",
       "      <th>Astronomical_Twilight</th>\n",
       "      <th>Description_P</th>\n",
       "    </tr>\n",
       "  </thead>\n",
       "  <tbody>\n",
       "    <tr>\n",
       "      <th>128037</th>\n",
       "      <td>A-128038</td>\n",
       "      <td>2</td>\n",
       "      <td>2016-08-26 15:00:46</td>\n",
       "      <td>2016-08-26 21:00:46</td>\n",
       "      <td>37.641960</td>\n",
       "      <td>-122.091420</td>\n",
       "      <td>37.644005</td>\n",
       "      <td>-122.092616</td>\n",
       "      <td>0.156</td>\n",
       "      <td>Ramp to CA-92/Jackson St - Accident.</td>\n",
       "      <td>...</td>\n",
       "      <td>False</td>\n",
       "      <td>False</td>\n",
       "      <td>False</td>\n",
       "      <td>False</td>\n",
       "      <td>False</td>\n",
       "      <td>Day</td>\n",
       "      <td>Day</td>\n",
       "      <td>Day</td>\n",
       "      <td>Day</td>\n",
       "      <td>Ramp CA92Jackson St Accident</td>\n",
       "    </tr>\n",
       "    <tr>\n",
       "      <th>491755</th>\n",
       "      <td>A-491756</td>\n",
       "      <td>2</td>\n",
       "      <td>2021-07-17 10:32:00</td>\n",
       "      <td>2021-07-17 11:52:05</td>\n",
       "      <td>35.791340</td>\n",
       "      <td>-117.358959</td>\n",
       "      <td>35.788912</td>\n",
       "      <td>-117.360747</td>\n",
       "      <td>0.195</td>\n",
       "      <td>Incident on SEARLES ST near HOUSE 84500 Drive ...</td>\n",
       "      <td>...</td>\n",
       "      <td>False</td>\n",
       "      <td>False</td>\n",
       "      <td>False</td>\n",
       "      <td>False</td>\n",
       "      <td>False</td>\n",
       "      <td>Day</td>\n",
       "      <td>Day</td>\n",
       "      <td>Day</td>\n",
       "      <td>Day</td>\n",
       "      <td>Incident SEARLES ST near HOUSE 84500 Drive cau...</td>\n",
       "    </tr>\n",
       "    <tr>\n",
       "      <th>2568076</th>\n",
       "      <td>A-2568077</td>\n",
       "      <td>4</td>\n",
       "      <td>2018-11-02 00:44:01</td>\n",
       "      <td>2018-11-02 01:13:41</td>\n",
       "      <td>41.960677</td>\n",
       "      <td>-72.853934</td>\n",
       "      <td>41.961746</td>\n",
       "      <td>-72.857197</td>\n",
       "      <td>0.183</td>\n",
       "      <td>Closed between Higley Rd and CT-219/Barkhamste...</td>\n",
       "      <td>...</td>\n",
       "      <td>False</td>\n",
       "      <td>False</td>\n",
       "      <td>False</td>\n",
       "      <td>False</td>\n",
       "      <td>False</td>\n",
       "      <td>Night</td>\n",
       "      <td>Night</td>\n",
       "      <td>Night</td>\n",
       "      <td>Night</td>\n",
       "      <td>Closed Higley Rd CT219Barkhamsted Rd Road clos...</td>\n",
       "    </tr>\n",
       "    <tr>\n",
       "      <th>491263</th>\n",
       "      <td>A-491264</td>\n",
       "      <td>2</td>\n",
       "      <td>2021-08-14 03:09:00</td>\n",
       "      <td>2021-08-14 03:42:30</td>\n",
       "      <td>34.083020</td>\n",
       "      <td>-117.695050</td>\n",
       "      <td>34.087155</td>\n",
       "      <td>-117.677911</td>\n",
       "      <td>1.022</td>\n",
       "      <td>Slow traffic on San Bernardino Fwy E - I-10 E ...</td>\n",
       "      <td>...</td>\n",
       "      <td>False</td>\n",
       "      <td>False</td>\n",
       "      <td>False</td>\n",
       "      <td>False</td>\n",
       "      <td>False</td>\n",
       "      <td>Night</td>\n",
       "      <td>Night</td>\n",
       "      <td>Night</td>\n",
       "      <td>Night</td>\n",
       "      <td>Slow traffic San Bernardino Fwy E I10 E Monte ...</td>\n",
       "    </tr>\n",
       "    <tr>\n",
       "      <th>836489</th>\n",
       "      <td>A-836490</td>\n",
       "      <td>2</td>\n",
       "      <td>2021-12-02 12:45:06</td>\n",
       "      <td>2021-12-02 14:00:08</td>\n",
       "      <td>38.956156</td>\n",
       "      <td>-77.193235</td>\n",
       "      <td>38.952146</td>\n",
       "      <td>-77.196025</td>\n",
       "      <td>0.315</td>\n",
       "      <td>Incident on I-495 SB near MM 43 Expect delays.</td>\n",
       "      <td>...</td>\n",
       "      <td>False</td>\n",
       "      <td>False</td>\n",
       "      <td>False</td>\n",
       "      <td>False</td>\n",
       "      <td>False</td>\n",
       "      <td>Day</td>\n",
       "      <td>Day</td>\n",
       "      <td>Day</td>\n",
       "      <td>Day</td>\n",
       "      <td>Incident I495 SB near MM 43 Expect delays</td>\n",
       "    </tr>\n",
       "  </tbody>\n",
       "</table>\n",
       "<p>5 rows × 48 columns</p>\n",
       "</div>"
      ],
      "text/plain": [
       "                ID  Severity           Start_Time             End_Time  \\\n",
       "128037    A-128038         2  2016-08-26 15:00:46  2016-08-26 21:00:46   \n",
       "491755    A-491756         2  2021-07-17 10:32:00  2021-07-17 11:52:05   \n",
       "2568076  A-2568077         4  2018-11-02 00:44:01  2018-11-02 01:13:41   \n",
       "491263    A-491264         2  2021-08-14 03:09:00  2021-08-14 03:42:30   \n",
       "836489    A-836490         2  2021-12-02 12:45:06  2021-12-02 14:00:08   \n",
       "\n",
       "         Start_Lat   Start_Lng    End_Lat     End_Lng  Distance(mi)  \\\n",
       "128037   37.641960 -122.091420  37.644005 -122.092616         0.156   \n",
       "491755   35.791340 -117.358959  35.788912 -117.360747         0.195   \n",
       "2568076  41.960677  -72.853934  41.961746  -72.857197         0.183   \n",
       "491263   34.083020 -117.695050  34.087155 -117.677911         1.022   \n",
       "836489   38.956156  -77.193235  38.952146  -77.196025         0.315   \n",
       "\n",
       "                                               Description  ...  Station  \\\n",
       "128037                Ramp to CA-92/Jackson St - Accident.  ...    False   \n",
       "491755   Incident on SEARLES ST near HOUSE 84500 Drive ...  ...    False   \n",
       "2568076  Closed between Higley Rd and CT-219/Barkhamste...  ...    False   \n",
       "491263   Slow traffic on San Bernardino Fwy E - I-10 E ...  ...    False   \n",
       "836489      Incident on I-495 SB near MM 43 Expect delays.  ...    False   \n",
       "\n",
       "          Stop Traffic_Calming Traffic_Signal Turning_Loop Sunrise_Sunset  \\\n",
       "128037   False           False          False        False            Day   \n",
       "491755   False           False          False        False            Day   \n",
       "2568076  False           False          False        False          Night   \n",
       "491263   False           False          False        False          Night   \n",
       "836489   False           False          False        False            Day   \n",
       "\n",
       "        Civil_Twilight Nautical_Twilight Astronomical_Twilight  \\\n",
       "128037             Day               Day                   Day   \n",
       "491755             Day               Day                   Day   \n",
       "2568076          Night             Night                 Night   \n",
       "491263           Night             Night                 Night   \n",
       "836489             Day               Day                   Day   \n",
       "\n",
       "                                             Description_P  \n",
       "128037                        Ramp CA92Jackson St Accident  \n",
       "491755   Incident SEARLES ST near HOUSE 84500 Drive cau...  \n",
       "2568076  Closed Higley Rd CT219Barkhamsted Rd Road clos...  \n",
       "491263   Slow traffic San Bernardino Fwy E I10 E Monte ...  \n",
       "836489           Incident I495 SB near MM 43 Expect delays  \n",
       "\n",
       "[5 rows x 48 columns]"
      ]
     },
     "execution_count": 5,
     "metadata": {},
     "output_type": "execute_result"
    }
   ],
   "source": [
    "%%time\n",
    "tqdm.pandas()\n",
    "df['Description_P'] = df['Description'].progress_apply(clean_text)\n",
    "\n",
    "df.head()"
   ]
  },
  {
   "cell_type": "markdown",
   "metadata": {},
   "source": [
    "### JOBlib"
   ]
  },
  {
   "cell_type": "code",
   "execution_count": 6,
   "metadata": {},
   "outputs": [],
   "source": [
    "def text_parallel_clean(array):\n",
    "  return Parallel(\n",
    "      n_jobs=n_workers, backend=\"multiprocessing\")(\n",
    "          delayed(clean_text)(text) for text in tqdm(array))"
   ]
  },
  {
   "cell_type": "code",
   "execution_count": 7,
   "metadata": {},
   "outputs": [
    {
     "data": {
      "application/vnd.jupyter.widget-view+json": {
       "model_id": "e2e87d3f70084284a3f0c39e1eb2bbcd",
       "version_major": 2,
       "version_minor": 0
      },
      "text/plain": [
       "  0%|          | 0/1422671 [00:00<?, ?it/s]"
      ]
     },
     "metadata": {},
     "output_type": "display_data"
    },
    {
     "name": "stdout",
     "output_type": "stream",
     "text": [
      "CPU times: user 42.8 s, sys: 3.65 s, total: 46.5 s\n",
      "Wall time: 2min 38s\n"
     ]
    }
   ],
   "source": [
    "%%time\n",
    "df['Description'] = text_parallel_clean(df['Description'])"
   ]
  },
  {
   "cell_type": "markdown",
   "metadata": {},
   "source": [
    "### Joblib with batches"
   ]
  },
  {
   "cell_type": "code",
   "execution_count": 10,
   "metadata": {},
   "outputs": [
    {
     "data": {
      "application/vnd.jupyter.widget-view+json": {
       "model_id": "7889001fdb98440ca12b0edf3fa16488",
       "version_major": 2,
       "version_minor": 0
      },
      "text/plain": [
       "  0%|          | 0/16 [00:00<?, ?it/s]"
      ]
     },
     "metadata": {},
     "output_type": "display_data"
    },
    {
     "name": "stderr",
     "output_type": "stream",
     "text": [
      "/tmp/ipykernel_3001/1167171108.py:8: FutureWarning: The behavior of `series[i:j]` with an integer-dtype index is deprecated. In a future version, this will be treated as *label-based* indexing, consistent with e.g. `series[i]` lookups. To retain the old behavior, use `series.iloc[i:j]`. To get the future behavior, use `series.loc[i:j]`.\n",
      "  array[ix:ix + batch_size] for ix in tqdm(range(0, file_len, batch_size))]\n"
     ]
    }
   ],
   "source": [
    "def proc_batch(batch):\n",
    "  return [clean_text(text) for text in batch]\n",
    "\n",
    "def batch_file(array,n_workers):\n",
    "  file_len = len(array)\n",
    "  batch_size = round(file_len / (2*n_workers))\n",
    "  return [\n",
    "      array[ix:ix + batch_size] for ix in tqdm(range(0, file_len, batch_size))]\n",
    "\n",
    "batches = batch_file(df['Description_P'],n_workers)\n"
   ]
  },
  {
   "cell_type": "code",
   "execution_count": 11,
   "metadata": {},
   "outputs": [
    {
     "data": {
      "application/vnd.jupyter.widget-view+json": {
       "model_id": "457d3db602724bf0a827eea9778371ad",
       "version_major": 2,
       "version_minor": 0
      },
      "text/plain": [
       "  0%|          | 0/16 [00:00<?, ?it/s]"
      ]
     },
     "metadata": {},
     "output_type": "display_data"
    },
    {
     "name": "stderr",
     "output_type": "stream",
     "text": [
      "IOPub data rate exceeded.\n",
      "The Jupyter server will temporarily stop sending output\n",
      "to the client in order to avoid crashing it.\n",
      "To change this limit, set the config variable\n",
      "`--ServerApp.iopub_data_rate_limit`.\n",
      "\n",
      "Current values:\n",
      "ServerApp.iopub_data_rate_limit=1000000.0 (bytes/sec)\n",
      "ServerApp.rate_limit_window=3.0 (secs)\n",
      "\n"
     ]
    },
    {
     "name": "stdout",
     "output_type": "stream",
     "text": [
      "CPU times: user 2.63 s, sys: 958 ms, total: 3.59 s\n",
      "Wall time: 2min 35s\n"
     ]
    }
   ],
   "source": [
    "%%time\n",
    "batch_output = Parallel(n_jobs=n_workers,backend=\"multiprocessing\")(\n",
    "  delayed(proc_batch) (batch) for batch in tqdm(batches))\n",
    "\n",
    "\n",
    "df['Description_P'] = [j for i in batch_output for j in i]"
   ]
  },
  {
   "cell_type": "markdown",
   "metadata": {},
   "source": [
    "### Concurrent"
   ]
  },
  {
   "cell_type": "code",
   "execution_count": 20,
   "metadata": {},
   "outputs": [
    {
     "data": {
      "application/vnd.jupyter.widget-view+json": {
       "model_id": "20c26695fd2447c59da03acbe6402ec4",
       "version_major": 2,
       "version_minor": 0
      },
      "text/plain": [
       "  0%|          | 0/1422671 [00:00<?, ?it/s]"
      ]
     },
     "metadata": {},
     "output_type": "display_data"
    },
    {
     "name": "stdout",
     "output_type": "stream",
     "text": [
      "CPU times: user 7.28 s, sys: 1.41 s, total: 8.69 s\n",
      "Wall time: 2min 24s\n"
     ]
    }
   ],
   "source": [
    "%%time\n",
    "from tqdm.contrib.concurrent import process_map\n",
    "# batch = round(len(df)/(n_workers*3))\n",
    "batch = 500\n",
    "\n",
    "\n",
    "df['Description'] = process_map(clean_text,df['Description'], max_workers=n_workers, chunksize=batch)"
   ]
  },
  {
   "cell_type": "code",
   "execution_count": null,
   "metadata": {},
   "outputs": [],
   "source": []
  }
 ],
 "metadata": {
  "kernelspec": {
   "display_name": "Python 3 (ipykernel)",
   "language": "python",
   "name": "python3"
  },
  "language_info": {
   "codemirror_mode": {
    "name": "ipython",
    "version": 3
   },
   "file_extension": ".py",
   "mimetype": "text/x-python",
   "name": "python",
   "nbconvert_exporter": "python",
   "pygments_lexer": "ipython3",
   "version": "3.9.15"
  },
  "vscode": {
   "interpreter": {
    "hash": "6c22f4ba516cddb1ff889c0d6c6a026d65d284fc0b64f12eeb02baa7f5832757"
   }
  }
 },
 "nbformat": 4,
 "nbformat_minor": 4
}
