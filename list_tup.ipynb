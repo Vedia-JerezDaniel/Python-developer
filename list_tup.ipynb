{
 "cells": [
  {
   "attachments": {},
   "cell_type": "markdown",
   "metadata": {},
   "source": [
    "## List VS Tuple"
   ]
  },
  {
   "attachments": {},
   "cell_type": "markdown",
   "metadata": {
    "vscode": {
     "languageId": "plaintext"
    }
   },
   "source": [
    "### Mutable Vs. Immutable"
   ]
  },
  {
   "cell_type": "code",
   "execution_count": 1,
   "metadata": {},
   "outputs": [
    {
     "data": {
      "text/plain": [
       "[100, 20, 30, 40, 50]"
      ]
     },
     "execution_count": 1,
     "metadata": {},
     "output_type": "execute_result"
    }
   ],
   "source": [
    "# LIST ARE MUTABLE\n",
    "\n",
    "mylist_1 = [10, 20, 30, 40, 50]\n",
    "mylist_1.append(60)\n",
    "mylist_1[0] = 100\n",
    "del mylist_1[-1]\n",
    "mylist_1"
   ]
  },
  {
   "cell_type": "code",
   "execution_count": 2,
   "metadata": {},
   "outputs": [
    {
     "ename": "TypeError",
     "evalue": "'tuple' object does not support item assignment",
     "output_type": "error",
     "traceback": [
      "\u001b[1;31m---------------------------------------------------------------------------\u001b[0m",
      "\u001b[1;31mTypeError\u001b[0m                                 Traceback (most recent call last)",
      "Cell \u001b[1;32mIn[2], line 2\u001b[0m\n\u001b[0;32m      1\u001b[0m mytuple_1 \u001b[39m=\u001b[39m (\u001b[39m10\u001b[39m, \u001b[39m20\u001b[39m, \u001b[39m30\u001b[39m, \u001b[39m40\u001b[39m, \u001b[39m50\u001b[39m)\n\u001b[1;32m----> 2\u001b[0m mytuple_1[\u001b[39m0\u001b[39;49m] \u001b[39m=\u001b[39m \u001b[39m100\u001b[39m\n\u001b[0;32m      4\u001b[0m \u001b[39m# TUPLES ARE IMMUTABLE\u001b[39;00m\n",
      "\u001b[1;31mTypeError\u001b[0m: 'tuple' object does not support item assignment"
     ]
    }
   ],
   "source": [
    "mytuple_1 = (10, 20, 30, 40, 50)\n",
    "mytuple_1[0] = 100\n",
    "\n",
    "# TUPLES ARE IMMUTABLE"
   ]
  },
  {
   "attachments": {},
   "cell_type": "markdown",
   "metadata": {
    "vscode": {
     "languageId": "plaintext"
    }
   },
   "source": [
    "If you were to convert the above mylist_1 a tuple, the size will now get reduced from 256 bytes to 200 bytes as you can see below.\n",
    "\n",
    "**List consume more memory than tuple, also are more time efficient.**"
   ]
  },
  {
   "cell_type": "code",
   "execution_count": 3,
   "metadata": {},
   "outputs": [
    {
     "name": "stdout",
     "output_type": "stream",
     "text": [
      "  2           0 RESUME                   0\n",
      "\n",
      "  3           2 BUILD_LIST               0\n",
      "              4 LOAD_CONST               1 ((10, 20, 30, 'abc'))\n",
      "              6 LIST_EXTEND              1\n",
      "              8 STORE_FAST               0 (x)\n",
      "\n",
      "  4          10 LOAD_FAST                0 (x)\n",
      "             12 LOAD_CONST               2 (0)\n",
      "             14 BINARY_SUBSCR\n",
      "             24 STORE_FAST               1 (y)\n",
      "             26 LOAD_CONST               0 (None)\n",
      "             28 RETURN_VALUE\n",
      "  5           0 RESUME                   0\n",
      "\n",
      "  6           2 LOAD_CONST               1 ((10, 20, 30, 'abc'))\n",
      "              4 STORE_FAST               0 (x)\n",
      "\n",
      "  7           6 LOAD_FAST                0 (x)\n",
      "              8 LOAD_CONST               2 (0)\n",
      "             10 BINARY_SUBSCR\n",
      "             20 STORE_FAST               1 (y)\n",
      "             22 LOAD_CONST               0 (None)\n",
      "             24 RETURN_VALUE\n"
     ]
    }
   ],
   "source": [
    "from dis import dis\n",
    "def my_list():\n",
    "    x = [10, 20, 30, 'abc']\n",
    "    y = x[0]\n",
    "def my_tuple():\n",
    "    x = (10, 20, 30, 'abc')\n",
    "    y = x[0]\n",
    "dis(my_list)\n",
    "dis(my_tuple)"
   ]
  },
  {
   "cell_type": "code",
   "execution_count": null,
   "metadata": {},
   "outputs": [],
   "source": []
  },
  {
   "cell_type": "code",
   "execution_count": null,
   "metadata": {},
   "outputs": [],
   "source": []
  },
  {
   "cell_type": "code",
   "execution_count": null,
   "metadata": {},
   "outputs": [],
   "source": []
  }
 ],
 "metadata": {
  "kernelspec": {
   "display_name": "fb",
   "language": "python",
   "name": "fb"
  },
  "language_info": {
   "codemirror_mode": {
    "name": "ipython",
    "version": 3
   },
   "file_extension": ".py",
   "mimetype": "text/x-python",
   "name": "python",
   "nbconvert_exporter": "python",
   "pygments_lexer": "ipython3",
   "version": "3.11.0"
  },
  "orig_nbformat": 4
 },
 "nbformat": 4,
 "nbformat_minor": 2
}
