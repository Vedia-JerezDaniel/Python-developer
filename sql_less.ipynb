{
 "cells": [
  {
   "cell_type": "code",
   "execution_count": 2,
   "metadata": {},
   "outputs": [
    {
     "name": "stdout",
     "output_type": "stream",
     "text": [
      "[(1, 'a', 1.0), (2, 'b', 2.0), (3, 'c', 4.0), (4, 'd', 6.0)]\n"
     ]
    }
   ],
   "source": [
    "import sqlite3\n",
    "\n",
    "conn = sqlite3.connect(\":memory:\")\n",
    "c = conn.cursor()\n",
    "\n",
    "with conn:\n",
    "    c.execute(\n",
    "        \"\"\"\n",
    "    create table if not exists stat (id integer primary key, cat text, score real);\n",
    "    \"\"\"\n",
    "    )\n",
    "\n",
    "    c.execute(\"\"\"insert into stat (cat, score) values ('a', 1.0);\"\"\")\n",
    "    c.execute(\"\"\"insert into stat (cat, score) values ('b', 2.0);\"\"\")\n",
    "    c.execute(\"\"\"insert into stat (cat, score) values ('c', 4.0);\"\"\")\n",
    "    c.execute(\"\"\"insert into stat (cat, score) values ('d', 6.0);\"\"\")\n",
    "    \n",
    "    result = c.execute(\"\"\"select * from stat;\"\"\").fetchall()\n",
    "\n",
    "    print(result)"
   ]
  },
  {
   "cell_type": "code",
   "execution_count": 3,
   "metadata": {},
   "outputs": [
    {
     "name": "stdout",
     "output_type": "stream",
     "text": [
      "[(1, 'a', 1.0), (2, 'b', 2.0), (3, 'c', 3.0), (4, 'd', 4.0), (5, 'e', 5.0), (6, 'f', 6.0), (7, 'g', 7.0), (8, 'h', 8.0), (9, 'i', 9.0)]\n"
     ]
    }
   ],
   "source": [
    "import sqlite3\n",
    "\n",
    "conn = sqlite3.connect(\":memory:\")\n",
    "c = conn.cursor()\n",
    "\n",
    "with conn:\n",
    "    c.execute(\n",
    "        \"\"\"\n",
    "    create table if not exists\n",
    "        stat (id integer primary key, cat text, score real);\n",
    "    \"\"\"\n",
    "    )\n",
    "\n",
    "    # Data needs to be passed as an iterable of tuples.\n",
    "    data = (\n",
    "        (\"a\", 1.0),\n",
    "        (\"b\", 2.0),\n",
    "        (\"c\", 3.0), (\"d\", 4.0), (\"e\", 5.0), (\"f\", 6.0), (\"g\", 7.0), \n",
    "        (\"h\", 8.0), (\"i\", 9.0))\n",
    "\n",
    "    c.executemany(\"insert into stat (cat, score) values (?, ?);\", data)\n",
    "    result = c.execute(\"\"\"select * from stat;\"\"\").fetchall()\n",
    "\n",
    "    print(result)"
   ]
  },
  {
   "attachments": {},
   "cell_type": "markdown",
   "metadata": {},
   "source": [
    "### Applying user-defined aggregate functions"
   ]
  },
  {
   "cell_type": "code",
   "execution_count": 6,
   "metadata": {},
   "outputs": [
    {
     "name": "stdout",
     "output_type": "stream",
     "text": [
      "[(120,)]\n"
     ]
    }
   ],
   "source": [
    "import sqlite3\n",
    "import hashlib\n",
    "\n",
    "conn = sqlite3.connect(\":memory:\")\n",
    "c = conn.cursor()\n",
    "\n",
    "class Mult:\n",
    "    def __init__(self):\n",
    "        self._result = 1\n",
    "\n",
    "    def step(self, value):\n",
    "        self._result *= value\n",
    "\n",
    "    def finalize(self):\n",
    "        return self._result\n",
    "\n",
    "# Register the aggregate class.\n",
    "conn.create_aggregate(\"mult\", 1, Mult)\n",
    "\n",
    "with conn:\n",
    "    c.execute(\n",
    "        \"\"\"\n",
    "        create table if not exists series (\n",
    "            val integer\n",
    "        );\n",
    "    \"\"\"\n",
    "    )\n",
    "    c.execute(\"insert into series (val) values (?);\", (1,))\n",
    "    c.execute(\"insert into series (val) values (?);\", (4,))\n",
    "    c.execute(\"insert into series (val) values (?);\", (5,))\n",
    "    c.execute(\"insert into series (val) values (?);\", (6,))\n",
    "\n",
    "    result = c.execute(\"select mult(val) from series;\").fetchall()\n",
    "    print(result)"
   ]
  },
  {
   "cell_type": "code",
   "execution_count": 7,
   "metadata": {},
   "outputs": [
    {
     "name": "stdout",
     "output_type": "stream",
     "text": [
      "[(datetime.date(2023, 2, 17), datetime.datetime(2023, 2, 17, 20, 8, 59, 898131))]\n"
     ]
    }
   ],
   "source": [
    "import datetime\n",
    "import sqlite3\n",
    "import zoneinfo\n",
    "\n",
    "conn = sqlite3.connect(\n",
    "    \":memory:\",\n",
    "    detect_types=sqlite3.PARSE_DECLTYPES | sqlite3.PARSE_COLNAMES,\n",
    ")\n",
    "\n",
    "with conn:\n",
    "    c = conn.cursor()\n",
    "    c.execute(\n",
    "        \"\"\"\n",
    "        create table if not exists\n",
    "        timekeeper (id integer primary key, d date, dt timestamp);\"\"\"\n",
    "    )\n",
    "    tz = zoneinfo.ZoneInfo(\"Europe/Madrid\")\n",
    "    dt = datetime.datetime.now(tz)\n",
    "    d = dt.date()\n",
    "\n",
    "    c.execute(\n",
    "        \"insert into timekeeper (d, dt) values (?, ?);\",\n",
    "        ((d, dt)),\n",
    "    )\n",
    "    result = c.execute(\n",
    "        \"\"\"\n",
    "        select\n",
    "            d as \"d [date]\", dt as \"dt [timestamp]\"\n",
    "            from timekeeper;\"\"\"\n",
    "    ).fetchall()\n",
    "    print(result)"
   ]
  },
  {
   "cell_type": "code",
   "execution_count": 9,
   "metadata": {},
   "outputs": [
    {
     "name": "stdout",
     "output_type": "stream",
     "text": [
      "[{'name': 'red', 'hex': '#ff0000'}, {'name': 'green', 'hex': '#00ff00'}, {'name': 'blue', 'hex': '#0000ff'}]\n"
     ]
    }
   ],
   "source": [
    "import sqlite3\n",
    "\n",
    "conn = sqlite3.connect(\":memory:\")\n",
    "\n",
    "# Using a dictionary to represent a row.\n",
    "def row_factory(cursor, row):\n",
    "    # cursor.description:\n",
    "    # (name, type_code, display_size,\n",
    "    # internal_size, precision, scale, null_ok)\n",
    "    # row: (value, value, ...)\n",
    "    return {\n",
    "        col[0]: row[idx]\n",
    "        for idx, col in enumerate(\n",
    "            cursor.description,)}\n",
    "\n",
    "conn.row_factory = row_factory\n",
    "\n",
    "c = conn.cursor()\n",
    "\n",
    "with conn:\n",
    "    c.execute(\n",
    "        \"\"\"\n",
    "        create table if not exists colors (\n",
    "            name text,\n",
    "            hex text);\"\"\")\n",
    "    c.execute(\n",
    "        \"insert into colors (name, hex) values (?, ?);\",\n",
    "        (\"red\", \"#ff0000\"),)\n",
    "    c.execute(\n",
    "        \"insert into colors (name, hex) values (?, ?);\",\n",
    "        (\"green\", \"#00ff00\"),)\n",
    "    c.execute(\n",
    "        \"insert into colors (name, hex) values (?, ?);\",\n",
    "        (\"blue\", \"#0000ff\"),)\n",
    "\n",
    "    result = c.execute(\"select * from colors;\").fetchall()\n",
    "    print(result)"
   ]
  },
  {
   "cell_type": "code",
   "execution_count": 10,
   "metadata": {},
   "outputs": [
    {
     "name": "stdout",
     "output_type": "stream",
     "text": [
      "red #ff0000\n",
      "green #00ff00\n",
      "blue #0000ff\n",
      "[{'name': 'red', 'hex': '#ff0000'}, {'name': 'green', 'hex': '#00ff00'}, {'name': 'blue', 'hex': '#0000ff'}]\n"
     ]
    }
   ],
   "source": [
    "import sqlite3\n",
    "\n",
    "conn = sqlite3.connect(\":memory:\")\n",
    "# Registering a highly optimized 'Row' object as the\n",
    "# default row_factory. Row is a map-like object that\n",
    "# allows you to access column values by name.\n",
    "conn.row_factory = sqlite3.Row\n",
    "\n",
    "c = conn.cursor()\n",
    "\n",
    "with conn:\n",
    "    c.execute(\n",
    "        \"\"\"\n",
    "        create table if not exists colors (\n",
    "            name text,\n",
    "            hex text);\"\"\")\n",
    "    c.executemany(\n",
    "        \"insert into colors (name, hex) values (?, ?);\",\n",
    "        (\n",
    "            (\"red\", \"#ff0000\"),\n",
    "            (\"green\", \"#00ff00\"),\n",
    "            (\"blue\", \"#0000ff\"),\n",
    "        ),)\n",
    "\n",
    "    result = c.execute(\"select * from colors;\").fetchall()\n",
    "    # Access the values of a row by column name.\n",
    "    for row in result:\n",
    "        print(row[\"name\"], row[\"hex\"])\n",
    "    # Convert the result to a list of dicts.\n",
    "    result_dict = [dict(row) for row in result]\n",
    "    print(result_dict)"
   ]
  },
  {
   "cell_type": "code",
   "execution_count": 2,
   "metadata": {},
   "outputs": [
    {
     "name": "stdout",
     "output_type": "stream",
     "text": [
      "create table if not exists colors (name text);\n",
      "BEGIN \n",
      "insert into colors (name) values ('red');\n",
      "insert into colors (name) values ('green');\n",
      "insert into colors (name) values ('blue');\n",
      "select * from colors\n",
      "[('red',), ('green',), ('blue',)]\n",
      "COMMIT\n"
     ]
    }
   ],
   "source": [
    "import sqlite3\n",
    "\n",
    "conn = sqlite3.connect(\":memory:\")\n",
    "c = conn.cursor()\n",
    "# Print all the statements executed.\n",
    "def introspect(s):\n",
    "    print(s)\n",
    "\n",
    "# Register the trace function.\n",
    "conn.set_trace_callback(introspect)\n",
    "\n",
    "with conn:\n",
    "    c.execute(\"create table if not exists colors (name text);\")\n",
    "    c.executemany(\n",
    "        \"insert into colors (name) values (?);\",\n",
    "        ((\"red\",), (\"green\",), (\"blue\",)),)\n",
    "\n",
    "    result = c.execute(\"\"\"select * from colors\"\"\").fetchall()\n",
    "    print(result)\n",
    "\n",
    "conn.close()"
   ]
  }
 ],
 "metadata": {
  "kernelspec": {
   "display_name": "fb",
   "language": "python",
   "name": "python3"
  },
  "language_info": {
   "codemirror_mode": {
    "name": "ipython",
    "version": 3
   },
   "file_extension": ".py",
   "mimetype": "text/x-python",
   "name": "python",
   "nbconvert_exporter": "python",
   "pygments_lexer": "ipython3",
   "version": "3.11.0"
  },
  "orig_nbformat": 4,
  "vscode": {
   "interpreter": {
    "hash": "e1232b2355732550dac66476c1b1c27559ab6a82a8cf77c017137ea532b39797"
   }
  }
 },
 "nbformat": 4,
 "nbformat_minor": 2
}
