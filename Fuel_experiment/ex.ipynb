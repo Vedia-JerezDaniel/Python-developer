{
 "cells": [
  {
   "cell_type": "code",
   "execution_count": 1,
   "metadata": {},
   "outputs": [],
   "source": [
    "import pandas as pd\n",
    "import numpy as np"
   ]
  },
  {
   "cell_type": "code",
   "execution_count": 17,
   "metadata": {},
   "outputs": [],
   "source": [
    "df = pd.read_csv(\"test_clean.csv\", delimiter=';')"
   ]
  },
  {
   "cell_type": "code",
   "execution_count": 30,
   "metadata": {},
   "outputs": [
    {
     "data": {
      "text/html": [
       "<div>\n",
       "<style scoped>\n",
       "    .dataframe tbody tr th:only-of-type {\n",
       "        vertical-align: middle;\n",
       "    }\n",
       "\n",
       "    .dataframe tbody tr th {\n",
       "        vertical-align: top;\n",
       "    }\n",
       "\n",
       "    .dataframe thead th {\n",
       "        text-align: right;\n",
       "    }\n",
       "</style>\n",
       "<table border=\"1\" class=\"dataframe\">\n",
       "  <thead>\n",
       "    <tr style=\"text-align: right;\">\n",
       "      <th></th>\n",
       "      <th>Timestamp</th>\n",
       "      <th>Velocity</th>\n",
       "      <th>Altitude</th>\n",
       "      <th>Trip</th>\n",
       "    </tr>\n",
       "  </thead>\n",
       "  <tbody>\n",
       "    <tr>\n",
       "      <th>0</th>\n",
       "      <td>2024-05-04 18:01:00</td>\n",
       "      <td>4.900</td>\n",
       "      <td>30</td>\n",
       "      <td>Go</td>\n",
       "    </tr>\n",
       "    <tr>\n",
       "      <th>1</th>\n",
       "      <td>2024-05-04 18:01:00</td>\n",
       "      <td>20.800</td>\n",
       "      <td>30</td>\n",
       "      <td>Go</td>\n",
       "    </tr>\n",
       "    <tr>\n",
       "      <th>2</th>\n",
       "      <td>2024-05-04 18:01:00</td>\n",
       "      <td>7.310</td>\n",
       "      <td>30</td>\n",
       "      <td>Go</td>\n",
       "    </tr>\n",
       "    <tr>\n",
       "      <th>3</th>\n",
       "      <td>2024-05-04 18:02:00</td>\n",
       "      <td>7.338</td>\n",
       "      <td>30</td>\n",
       "      <td>Go</td>\n",
       "    </tr>\n",
       "    <tr>\n",
       "      <th>4</th>\n",
       "      <td>2024-05-04 18:02:00</td>\n",
       "      <td>7.560</td>\n",
       "      <td>30</td>\n",
       "      <td>Go</td>\n",
       "    </tr>\n",
       "    <tr>\n",
       "      <th>...</th>\n",
       "      <td>...</td>\n",
       "      <td>...</td>\n",
       "      <td>...</td>\n",
       "      <td>...</td>\n",
       "    </tr>\n",
       "    <tr>\n",
       "      <th>198</th>\n",
       "      <td>2024-06-04 11:21:00</td>\n",
       "      <td>37.000</td>\n",
       "      <td>23</td>\n",
       "      <td>Return</td>\n",
       "    </tr>\n",
       "    <tr>\n",
       "      <th>199</th>\n",
       "      <td>2024-06-04 11:23:00</td>\n",
       "      <td>30.852</td>\n",
       "      <td>23</td>\n",
       "      <td>Return</td>\n",
       "    </tr>\n",
       "    <tr>\n",
       "      <th>200</th>\n",
       "      <td>2024-06-04 11:24:00</td>\n",
       "      <td>17.668</td>\n",
       "      <td>23</td>\n",
       "      <td>Return</td>\n",
       "    </tr>\n",
       "    <tr>\n",
       "      <th>201</th>\n",
       "      <td>2024-06-04 11:25:00</td>\n",
       "      <td>4.500</td>\n",
       "      <td>27</td>\n",
       "      <td>Return</td>\n",
       "    </tr>\n",
       "    <tr>\n",
       "      <th>202</th>\n",
       "      <td>2024-06-04 11:27:00</td>\n",
       "      <td>0.000</td>\n",
       "      <td>33</td>\n",
       "      <td>Return</td>\n",
       "    </tr>\n",
       "  </tbody>\n",
       "</table>\n",
       "<p>203 rows × 4 columns</p>\n",
       "</div>"
      ],
      "text/plain": [
       "              Timestamp  Velocity  Altitude    Trip\n",
       "0   2024-05-04 18:01:00     4.900        30      Go\n",
       "1   2024-05-04 18:01:00    20.800        30      Go\n",
       "2   2024-05-04 18:01:00     7.310        30      Go\n",
       "3   2024-05-04 18:02:00     7.338        30      Go\n",
       "4   2024-05-04 18:02:00     7.560        30      Go\n",
       "..                  ...       ...       ...     ...\n",
       "198 2024-06-04 11:21:00    37.000        23  Return\n",
       "199 2024-06-04 11:23:00    30.852        23  Return\n",
       "200 2024-06-04 11:24:00    17.668        23  Return\n",
       "201 2024-06-04 11:25:00     4.500        27  Return\n",
       "202 2024-06-04 11:27:00     0.000        33  Return\n",
       "\n",
       "[203 rows x 4 columns]"
      ]
     },
     "execution_count": 30,
     "metadata": {},
     "output_type": "execute_result"
    }
   ],
   "source": [
    "df"
   ]
  },
  {
   "cell_type": "code",
   "execution_count": 28,
   "metadata": {},
   "outputs": [],
   "source": [
    "# df['Timestamp'] = pd.to_datetime(df['Timestamp']).dt.strftime(\"%d/%m/%Y %H:%M\")\n",
    "df['Timestamp'] = pd.to_datetime(df['Timestamp'], format='%d/%m/%Y %H:%M')"
   ]
  },
  {
   "cell_type": "code",
   "execution_count": 30,
   "metadata": {},
   "outputs": [],
   "source": [
    "# Fill the missing values in the Timestamp column with the previous non-missing value\n",
    "data = [\n",
    "    [\"18:01\", 4.9],\n",
    "    [\"\", 20.8],\n",
    "    [\"\", 7.31],\n",
    "    [\"\", 7.338],\n",
    "    [\"\", 7.56],\n",
    "    [\"\", 14.8],\n",
    "    [\"18:11\", 25.8]\n",
    "]\n",
    "\n",
    "# Convert data to DataFrame\n",
    "df = pd.DataFrame(data, columns=[\"Timestamp\", \"Value\"])\n",
    "df.Timestamp =pd.to_datetime(df.Timestamp, format=\"%H:%M\")"
   ]
  },
  {
   "cell_type": "code",
   "execution_count": 32,
   "metadata": {},
   "outputs": [
    {
     "data": {
      "text/plain": [
       "7"
      ]
     },
     "execution_count": 32,
     "metadata": {},
     "output_type": "execute_result"
    }
   ],
   "source": [
    "len(df)"
   ]
  },
  {
   "cell_type": "code",
   "execution_count": 41,
   "metadata": {},
   "outputs": [
    {
     "data": {
      "text/plain": [
       "DatetimeIndex(['1900-01-01 18:01:00', '1900-01-01 18:02:40',\n",
       "               '1900-01-01 18:04:20', '1900-01-01 18:06:00',\n",
       "               '1900-01-01 18:07:40', '1900-01-01 18:09:20',\n",
       "               '1900-01-01 18:11:00'],\n",
       "              dtype='datetime64[ns]', freq=None)"
      ]
     },
     "execution_count": 41,
     "metadata": {},
     "output_type": "execute_result"
    }
   ],
   "source": [
    "pd.date_range(\n",
    "    start=pd.to_datetime(str(df['Timestamp'][0])), end=pd.to_datetime(str(df['Timestamp'][6])),periods=7)"
   ]
  },
  {
   "cell_type": "code",
   "execution_count": 38,
   "metadata": {},
   "outputs": [
    {
     "data": {
      "text/plain": [
       "'1900-01-01 18:11:00'"
      ]
     },
     "execution_count": 38,
     "metadata": {},
     "output_type": "execute_result"
    }
   ],
   "source": [
    "str(df['Timestamp'][6])"
   ]
  },
  {
   "cell_type": "code",
   "execution_count": 4,
   "metadata": {},
   "outputs": [],
   "source": [
    "data = [\n",
    "    [4.9, 30],\n",
    "    [20.8, None],\n",
    "    [7.31, None],\n",
    "    [7.338, None],\n",
    "    [7.56, None],\n",
    "    [14.8, 32],\n",
    "    [25.8, None],\n",
    "    [42.8, None],\n",
    "    [42.5, None],\n",
    "    [25.9, None],\n",
    "    [23.47, 32]\n",
    "]\n",
    "\n",
    "# Convert data to DataFrame\n",
    "df = pd.DataFrame(data, columns=[\"km\", \"Value\"])"
   ]
  },
  {
   "cell_type": "code",
   "execution_count": 8,
   "metadata": {},
   "outputs": [
    {
     "name": "stdout",
     "output_type": "stream",
     "text": [
      "        km  Value\n",
      "0    4.900   30.0\n",
      "1   20.800   30.0\n",
      "2    7.310   30.0\n",
      "3    7.338   30.0\n",
      "4    7.560   30.0\n",
      "5   14.800   32.0\n",
      "6   25.800   32.0\n",
      "7   42.800   32.0\n",
      "8   42.500   32.0\n",
      "9   25.900   32.0\n",
      "10  23.470   32.0\n"
     ]
    }
   ],
   "source": [
    "df[\"Value\"].fillna(df[\"Value\"].rolling(window=5, min_periods=1).mean(), inplace=True)\n",
    "\n",
    "print(df)"
   ]
  },
  {
   "cell_type": "code",
   "execution_count": null,
   "metadata": {},
   "outputs": [],
   "source": []
  },
  {
   "cell_type": "code",
   "execution_count": null,
   "metadata": {},
   "outputs": [],
   "source": []
  }
 ],
 "metadata": {
  "kernelspec": {
   "display_name": "base",
   "language": "python",
   "name": "python3"
  },
  "language_info": {
   "codemirror_mode": {
    "name": "ipython",
    "version": 3
   },
   "file_extension": ".py",
   "mimetype": "text/x-python",
   "name": "python",
   "nbconvert_exporter": "python",
   "pygments_lexer": "ipython3",
   "version": "3.11.6"
  }
 },
 "nbformat": 4,
 "nbformat_minor": 2
}
