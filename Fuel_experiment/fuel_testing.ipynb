{
 "cells": [
  {
   "cell_type": "code",
   "execution_count": 1,
   "metadata": {},
   "outputs": [],
   "source": [
    "import pandas as pd\n",
    "import numpy as np"
   ]
  },
  {
   "cell_type": "code",
   "execution_count": 2,
   "metadata": {},
   "outputs": [],
   "source": [
    "df = pd.read_csv(\"B2.csv\", delimiter=\";\")\n",
    "df[\"TIMESTAMP\"] = pd.to_datetime(df[\"TIMESTAMP\"], format=\"%d/%m/%Y %H:%M\")"
   ]
  },
  {
   "cell_type": "code",
   "execution_count": 3,
   "metadata": {},
   "outputs": [
    {
     "name": "stderr",
     "output_type": "stream",
     "text": [
      "C:\\Users\\canut\\AppData\\Local\\Temp\\ipykernel_14088\\2756122955.py:2: FutureWarning: Series.fillna with 'method' is deprecated and will raise in a future version. Use obj.ffill() or obj.bfill() instead.\n",
      "  df[i].fillna(method=\"ffill\", inplace=True)\n"
     ]
    }
   ],
   "source": [
    "for i in [\"TRIP\", \"TEMPERATURE\", \"FUEL\", \"PERSONS\"]:\n",
    "    df[i].fillna(method=\"ffill\", inplace=True)"
   ]
  },
  {
   "cell_type": "code",
   "execution_count": 10,
   "metadata": {},
   "outputs": [],
   "source": [
    "df[\"ALTITUDE\"].fillna(\n",
    "    df[\"ALTITUDE\"].rolling(window=3, min_periods=1).mean(), inplace=True\n",
    ")\n",
    "\n",
    "df[\"ALTITUDE\"] = df[\"ALTITUDE\"].round(0)"
   ]
  },
  {
   "cell_type": "code",
   "execution_count": 11,
   "metadata": {},
   "outputs": [],
   "source": [
    "dn = list(df.select_dtypes(include=np.number).columns)\n",
    "\n",
    "for i in dn:\n",
    "    df[i] = df[i].astype(int)"
   ]
  },
  {
   "cell_type": "code",
   "execution_count": 12,
   "metadata": {},
   "outputs": [
    {
     "data": {
      "text/plain": [
       "Index([], dtype='int64')"
      ]
     },
     "execution_count": 12,
     "metadata": {},
     "output_type": "execute_result"
    }
   ],
   "source": [
    "df[df[\"ALTITUDE\"].isna()].index"
   ]
  },
  {
   "cell_type": "code",
   "execution_count": 31,
   "metadata": {},
   "outputs": [],
   "source": [
    "for i in [366, 367]:\n",
    "    df.at[i, \"ALTITUDE\"] = 106"
   ]
  },
  {
   "cell_type": "code",
   "execution_count": 33,
   "metadata": {},
   "outputs": [],
   "source": [
    "df.at[387, \"ALTITUDE\"] = 98"
   ]
  },
  {
   "cell_type": "code",
   "execution_count": 17,
   "metadata": {},
   "outputs": [
    {
     "data": {
      "text/html": [
       "<div>\n",
       "<style scoped>\n",
       "    .dataframe tbody tr th:only-of-type {\n",
       "        vertical-align: middle;\n",
       "    }\n",
       "\n",
       "    .dataframe tbody tr th {\n",
       "        vertical-align: top;\n",
       "    }\n",
       "\n",
       "    .dataframe thead th {\n",
       "        text-align: right;\n",
       "    }\n",
       "</style>\n",
       "<table border=\"1\" class=\"dataframe\">\n",
       "  <thead>\n",
       "    <tr style=\"text-align: right;\">\n",
       "      <th></th>\n",
       "      <th>TIMESTAMP</th>\n",
       "      <th>SPEED</th>\n",
       "      <th>ALTITUDE</th>\n",
       "      <th>TRIP</th>\n",
       "      <th>TEMPERATURE</th>\n",
       "      <th>FUEL</th>\n",
       "      <th>PERSONS</th>\n",
       "    </tr>\n",
       "  </thead>\n",
       "  <tbody>\n",
       "    <tr>\n",
       "      <th>0</th>\n",
       "      <td>2024-04-21 16:50:00</td>\n",
       "      <td>0</td>\n",
       "      <td>33</td>\n",
       "      <td>GO</td>\n",
       "      <td>22</td>\n",
       "      <td>REPSOL</td>\n",
       "      <td>1</td>\n",
       "    </tr>\n",
       "    <tr>\n",
       "      <th>1</th>\n",
       "      <td>NaT</td>\n",
       "      <td>4</td>\n",
       "      <td>33</td>\n",
       "      <td>GO</td>\n",
       "      <td>22</td>\n",
       "      <td>REPSOL</td>\n",
       "      <td>1</td>\n",
       "    </tr>\n",
       "    <tr>\n",
       "      <th>2</th>\n",
       "      <td>NaT</td>\n",
       "      <td>9</td>\n",
       "      <td>33</td>\n",
       "      <td>GO</td>\n",
       "      <td>22</td>\n",
       "      <td>REPSOL</td>\n",
       "      <td>1</td>\n",
       "    </tr>\n",
       "    <tr>\n",
       "      <th>3</th>\n",
       "      <td>NaT</td>\n",
       "      <td>0</td>\n",
       "      <td>33</td>\n",
       "      <td>GO</td>\n",
       "      <td>22</td>\n",
       "      <td>REPSOL</td>\n",
       "      <td>1</td>\n",
       "    </tr>\n",
       "    <tr>\n",
       "      <th>4</th>\n",
       "      <td>NaT</td>\n",
       "      <td>13</td>\n",
       "      <td>33</td>\n",
       "      <td>GO</td>\n",
       "      <td>22</td>\n",
       "      <td>REPSOL</td>\n",
       "      <td>1</td>\n",
       "    </tr>\n",
       "    <tr>\n",
       "      <th>...</th>\n",
       "      <td>...</td>\n",
       "      <td>...</td>\n",
       "      <td>...</td>\n",
       "      <td>...</td>\n",
       "      <td>...</td>\n",
       "      <td>...</td>\n",
       "      <td>...</td>\n",
       "    </tr>\n",
       "    <tr>\n",
       "      <th>855</th>\n",
       "      <td>NaT</td>\n",
       "      <td>30</td>\n",
       "      <td>7</td>\n",
       "      <td>GO</td>\n",
       "      <td>22</td>\n",
       "      <td>V2</td>\n",
       "      <td>1</td>\n",
       "    </tr>\n",
       "    <tr>\n",
       "      <th>856</th>\n",
       "      <td>NaT</td>\n",
       "      <td>24</td>\n",
       "      <td>7</td>\n",
       "      <td>GO</td>\n",
       "      <td>22</td>\n",
       "      <td>V2</td>\n",
       "      <td>1</td>\n",
       "    </tr>\n",
       "    <tr>\n",
       "      <th>857</th>\n",
       "      <td>NaT</td>\n",
       "      <td>19</td>\n",
       "      <td>7</td>\n",
       "      <td>GO</td>\n",
       "      <td>22</td>\n",
       "      <td>V2</td>\n",
       "      <td>1</td>\n",
       "    </tr>\n",
       "    <tr>\n",
       "      <th>858</th>\n",
       "      <td>NaT</td>\n",
       "      <td>4</td>\n",
       "      <td>7</td>\n",
       "      <td>GO</td>\n",
       "      <td>22</td>\n",
       "      <td>V2</td>\n",
       "      <td>1</td>\n",
       "    </tr>\n",
       "    <tr>\n",
       "      <th>859</th>\n",
       "      <td>2024-05-03 16:41:00</td>\n",
       "      <td>0</td>\n",
       "      <td>6</td>\n",
       "      <td>GO</td>\n",
       "      <td>22</td>\n",
       "      <td>V2</td>\n",
       "      <td>1</td>\n",
       "    </tr>\n",
       "  </tbody>\n",
       "</table>\n",
       "<p>860 rows × 7 columns</p>\n",
       "</div>"
      ],
      "text/plain": [
       "              TIMESTAMP  SPEED  ALTITUDE TRIP  TEMPERATURE    FUEL  PERSONS\n",
       "0   2024-04-21 16:50:00      0        33   GO           22  REPSOL        1\n",
       "1                   NaT      4        33   GO           22  REPSOL        1\n",
       "2                   NaT      9        33   GO           22  REPSOL        1\n",
       "3                   NaT      0        33   GO           22  REPSOL        1\n",
       "4                   NaT     13        33   GO           22  REPSOL        1\n",
       "..                  ...    ...       ...  ...          ...     ...      ...\n",
       "855                 NaT     30         7   GO           22      V2        1\n",
       "856                 NaT     24         7   GO           22      V2        1\n",
       "857                 NaT     19         7   GO           22      V2        1\n",
       "858                 NaT      4         7   GO           22      V2        1\n",
       "859 2024-05-03 16:41:00      0         6   GO           22      V2        1\n",
       "\n",
       "[860 rows x 7 columns]"
      ]
     },
     "execution_count": 17,
     "metadata": {},
     "output_type": "execute_result"
    }
   ],
   "source": [
    "df"
   ]
  },
  {
   "cell_type": "code",
   "execution_count": 18,
   "metadata": {},
   "outputs": [],
   "source": [
    "df.to_csv(\"fin_V2.csv\")"
   ]
  },
  {
   "cell_type": "code",
   "execution_count": 3,
   "metadata": {},
   "outputs": [],
   "source": [
    "df = pd.read_csv(\"end_REP.csv\", delimiter=\";\")"
   ]
  },
  {
   "cell_type": "code",
   "execution_count": 13,
   "metadata": {},
   "outputs": [],
   "source": [
    "# df[\"TIMESTAMP\"] = pd.to_datetime(df[\"TIMESTAMP\"], format=\"%Y-%m-%d %H:%M:%S\")\n",
    "\n",
    "df[\"TIMESTAMP\"] = pd.to_datetime(df[\"TIMESTAMP\"], format=\"%d/%m/%Y %H:%M\")"
   ]
  },
  {
   "cell_type": "code",
   "execution_count": 14,
   "metadata": {},
   "outputs": [
    {
     "data": {
      "text/plain": [
       "Index([  0,  69,  70, 151, 152, 238, 239, 321, 322, 402, 403, 513, 514, 611,\n",
       "       612, 685, 686, 759, 760, 859],\n",
       "      dtype='int64')"
      ]
     },
     "execution_count": 14,
     "metadata": {},
     "output_type": "execute_result"
    }
   ],
   "source": [
    "lr = df[df[\"TIMESTAMP\"].notnull()].index\n",
    "lr"
   ]
  },
  {
   "cell_type": "code",
   "execution_count": 15,
   "metadata": {},
   "outputs": [],
   "source": [
    "def get_even_lists(lst):\n",
    "    even_pos = []\n",
    "    odd_pos = []\n",
    "    lim = len(lst)\n",
    "\n",
    "    for i in range(len(lst)):\n",
    "        if i % 2 == 1:\n",
    "            odd_pos.append(lst[i])\n",
    "        else:\n",
    "            even_pos.append(lst[i])\n",
    "    return odd_pos, even_pos"
   ]
  },
  {
   "cell_type": "code",
   "execution_count": 16,
   "metadata": {},
   "outputs": [
    {
     "data": {
      "text/plain": [
       "([69, 151, 238, 321, 402, 513, 611, 685, 759, 859],\n",
       " [0, 70, 152, 239, 322, 403, 514, 612, 686, 760])"
      ]
     },
     "execution_count": 16,
     "metadata": {},
     "output_type": "execute_result"
    }
   ],
   "source": [
    "odd_l, even_l = get_even_lists(lr)\n",
    "odd_l, even_l"
   ]
  },
  {
   "cell_type": "code",
   "execution_count": 17,
   "metadata": {},
   "outputs": [
    {
     "name": "stdout",
     "output_type": "stream",
     "text": [
      "2024-04-21 16:57:00\n",
      "2024-04-21 17:15:00\n",
      "2024-04-23 18:32:00\n",
      "2024-04-25 09:50:00\n",
      "2024-04-25 11:08:00\n",
      "2024-04-26 08:23:00\n",
      "2024-04-26 13:54:00\n",
      "2024-05-03 08:26:00\n",
      "2024-05-03 08:46:00\n",
      "2024-05-03 16:41:00\n"
     ]
    }
   ],
   "source": [
    "lg = []\n",
    "for i, j in zip(even_l, odd_l):\n",
    "    l_i = pd.date_range(\n",
    "        start=pd.to_datetime(str(df[\"TIMESTAMP\"][i])),\n",
    "        end=pd.to_datetime(str(df[\"TIMESTAMP\"][j])),\n",
    "        periods=(j - i + 1),\n",
    "    ).round(freq=\"min\")\n",
    "    print(l_i[-1])\n",
    "    lg.append(l_i)\n",
    "\n",
    "ld = [x for xs in lg for x in xs]\n",
    "df[\"TIMESTAMP\"] = ld"
   ]
  },
  {
   "cell_type": "code",
   "execution_count": 154,
   "metadata": {},
   "outputs": [],
   "source": [
    "df.drop(\"Unnamed: 0\", axis=1, inplace=True)"
   ]
  },
  {
   "cell_type": "code",
   "execution_count": 49,
   "metadata": {},
   "outputs": [
    {
     "data": {
      "text/html": [
       "<div>\n",
       "<style scoped>\n",
       "    .dataframe tbody tr th:only-of-type {\n",
       "        vertical-align: middle;\n",
       "    }\n",
       "\n",
       "    .dataframe tbody tr th {\n",
       "        vertical-align: top;\n",
       "    }\n",
       "\n",
       "    .dataframe thead th {\n",
       "        text-align: right;\n",
       "    }\n",
       "</style>\n",
       "<table border=\"1\" class=\"dataframe\">\n",
       "  <thead>\n",
       "    <tr style=\"text-align: right;\">\n",
       "      <th></th>\n",
       "      <th>Unnamed: 0</th>\n",
       "      <th>TIMESTAMP</th>\n",
       "      <th>SPEED</th>\n",
       "      <th>ALTITUDE</th>\n",
       "      <th>TRIP</th>\n",
       "      <th>TEMPERATURE</th>\n",
       "      <th>FUEL</th>\n",
       "      <th>PERSONS</th>\n",
       "    </tr>\n",
       "  </thead>\n",
       "  <tbody>\n",
       "    <tr>\n",
       "      <th>0</th>\n",
       "      <td>0</td>\n",
       "      <td>2024-04-21 16:50:00</td>\n",
       "      <td>0</td>\n",
       "      <td>33</td>\n",
       "      <td>GO</td>\n",
       "      <td>22</td>\n",
       "      <td>REPSOL</td>\n",
       "      <td>1</td>\n",
       "    </tr>\n",
       "    <tr>\n",
       "      <th>1</th>\n",
       "      <td>1</td>\n",
       "      <td>2024-04-21 16:50:00</td>\n",
       "      <td>4</td>\n",
       "      <td>33</td>\n",
       "      <td>GO</td>\n",
       "      <td>22</td>\n",
       "      <td>REPSOL</td>\n",
       "      <td>1</td>\n",
       "    </tr>\n",
       "    <tr>\n",
       "      <th>2</th>\n",
       "      <td>2</td>\n",
       "      <td>2024-04-21 16:50:00</td>\n",
       "      <td>9</td>\n",
       "      <td>33</td>\n",
       "      <td>GO</td>\n",
       "      <td>22</td>\n",
       "      <td>REPSOL</td>\n",
       "      <td>1</td>\n",
       "    </tr>\n",
       "    <tr>\n",
       "      <th>3</th>\n",
       "      <td>3</td>\n",
       "      <td>2024-04-21 16:50:00</td>\n",
       "      <td>0</td>\n",
       "      <td>33</td>\n",
       "      <td>GO</td>\n",
       "      <td>22</td>\n",
       "      <td>REPSOL</td>\n",
       "      <td>1</td>\n",
       "    </tr>\n",
       "    <tr>\n",
       "      <th>4</th>\n",
       "      <td>4</td>\n",
       "      <td>2024-04-21 16:50:00</td>\n",
       "      <td>13</td>\n",
       "      <td>33</td>\n",
       "      <td>GO</td>\n",
       "      <td>22</td>\n",
       "      <td>REPSOL</td>\n",
       "      <td>1</td>\n",
       "    </tr>\n",
       "  </tbody>\n",
       "</table>\n",
       "</div>"
      ],
      "text/plain": [
       "   Unnamed: 0           TIMESTAMP  SPEED  ALTITUDE TRIP  TEMPERATURE    FUEL  \\\n",
       "0           0 2024-04-21 16:50:00      0        33   GO           22  REPSOL   \n",
       "1           1 2024-04-21 16:50:00      4        33   GO           22  REPSOL   \n",
       "2           2 2024-04-21 16:50:00      9        33   GO           22  REPSOL   \n",
       "3           3 2024-04-21 16:50:00      0        33   GO           22  REPSOL   \n",
       "4           4 2024-04-21 16:50:00     13        33   GO           22  REPSOL   \n",
       "\n",
       "   PERSONS  \n",
       "0        1  \n",
       "1        1  \n",
       "2        1  \n",
       "3        1  \n",
       "4        1  "
      ]
     },
     "execution_count": 49,
     "metadata": {},
     "output_type": "execute_result"
    }
   ],
   "source": [
    "df.head()"
   ]
  },
  {
   "cell_type": "code",
   "execution_count": 58,
   "metadata": {},
   "outputs": [],
   "source": [
    "df = pd.read_csv(\"final_1.csv\", delimiter=\";\")\n",
    "df[\"TIMESTAMP\"] = pd.to_datetime(df[\"TIMESTAMP\"], format=\"%d/%m/%Y %H:%M\")"
   ]
  },
  {
   "cell_type": "code",
   "execution_count": 81,
   "metadata": {},
   "outputs": [],
   "source": [
    "df['day_formatted'] = df['TIMESTAMP'].dt.strftime(\"%d/%m/%Y\")\n",
    "\n",
    "df['day_fuel'] = df['day_formatted'] + \"_\" + df['FUEL'].astype(str)\n",
    "df['day_fuel'] = df['day_fuel'] + \"_\" + df['COUNT_TRIPS'].astype(str)\n",
    "\n",
    "# df.drop(['day_c'], axis=1, inplace=True)"
   ]
  },
  {
   "cell_type": "code",
   "execution_count": 82,
   "metadata": {},
   "outputs": [
    {
     "data": {
      "text/plain": [
       "['BP', 'REPSOL', 'V2']"
      ]
     },
     "execution_count": 82,
     "metadata": {},
     "output_type": "execute_result"
    }
   ],
   "source": [
    "l_g = list(df['FUEL'].unique())\n",
    "l_g"
   ]
  },
  {
   "cell_type": "code",
   "execution_count": 83,
   "metadata": {},
   "outputs": [
    {
     "name": "stderr",
     "output_type": "stream",
     "text": [
      "C:\\Users\\canut\\AppData\\Local\\Temp\\ipykernel_12200\\2590579173.py:1: FutureWarning: The provided callable <function median at 0x00000294D07DC720> is currently using SeriesGroupBy.median. In a future version of pandas, the provided callable will be used directly. To keep current behavior pass 'median' instead.\n",
      "  df[df['FUEL'] == 'BP'].groupby('day_fuel')[['SPEED','ALTITUDE','PERSONS']].agg(['mean', np.median, 'max']).round(0)\n"
     ]
    },
    {
     "data": {
      "text/html": [
       "<div>\n",
       "<style scoped>\n",
       "    .dataframe tbody tr th:only-of-type {\n",
       "        vertical-align: middle;\n",
       "    }\n",
       "\n",
       "    .dataframe tbody tr th {\n",
       "        vertical-align: top;\n",
       "    }\n",
       "\n",
       "    .dataframe thead tr th {\n",
       "        text-align: left;\n",
       "    }\n",
       "\n",
       "    .dataframe thead tr:last-of-type th {\n",
       "        text-align: right;\n",
       "    }\n",
       "</style>\n",
       "<table border=\"1\" class=\"dataframe\">\n",
       "  <thead>\n",
       "    <tr>\n",
       "      <th></th>\n",
       "      <th colspan=\"3\" halign=\"left\">SPEED</th>\n",
       "      <th colspan=\"3\" halign=\"left\">ALTITUDE</th>\n",
       "      <th colspan=\"3\" halign=\"left\">PERSONS</th>\n",
       "    </tr>\n",
       "    <tr>\n",
       "      <th></th>\n",
       "      <th>mean</th>\n",
       "      <th>median</th>\n",
       "      <th>max</th>\n",
       "      <th>mean</th>\n",
       "      <th>median</th>\n",
       "      <th>max</th>\n",
       "      <th>mean</th>\n",
       "      <th>median</th>\n",
       "      <th>max</th>\n",
       "    </tr>\n",
       "    <tr>\n",
       "      <th>day_fuel</th>\n",
       "      <th></th>\n",
       "      <th></th>\n",
       "      <th></th>\n",
       "      <th></th>\n",
       "      <th></th>\n",
       "      <th></th>\n",
       "      <th></th>\n",
       "      <th></th>\n",
       "      <th></th>\n",
       "    </tr>\n",
       "  </thead>\n",
       "  <tbody>\n",
       "    <tr>\n",
       "      <th>05/04/2024_BP_1</th>\n",
       "      <td>18.0</td>\n",
       "      <td>18.0</td>\n",
       "      <td>43</td>\n",
       "      <td>39.0</td>\n",
       "      <td>39.0</td>\n",
       "      <td>50</td>\n",
       "      <td>3.0</td>\n",
       "      <td>3.0</td>\n",
       "      <td>3</td>\n",
       "    </tr>\n",
       "    <tr>\n",
       "      <th>05/04/2024_BP_2</th>\n",
       "      <td>14.0</td>\n",
       "      <td>14.0</td>\n",
       "      <td>38</td>\n",
       "      <td>39.0</td>\n",
       "      <td>38.0</td>\n",
       "      <td>50</td>\n",
       "      <td>3.0</td>\n",
       "      <td>3.0</td>\n",
       "      <td>3</td>\n",
       "    </tr>\n",
       "    <tr>\n",
       "      <th>06/04/2024_BP_1</th>\n",
       "      <td>51.0</td>\n",
       "      <td>44.0</td>\n",
       "      <td>112</td>\n",
       "      <td>46.0</td>\n",
       "      <td>32.0</td>\n",
       "      <td>125</td>\n",
       "      <td>3.0</td>\n",
       "      <td>3.0</td>\n",
       "      <td>3</td>\n",
       "    </tr>\n",
       "    <tr>\n",
       "      <th>06/04/2024_BP_2</th>\n",
       "      <td>65.0</td>\n",
       "      <td>70.0</td>\n",
       "      <td>126</td>\n",
       "      <td>46.0</td>\n",
       "      <td>27.0</td>\n",
       "      <td>125</td>\n",
       "      <td>1.0</td>\n",
       "      <td>1.0</td>\n",
       "      <td>1</td>\n",
       "    </tr>\n",
       "    <tr>\n",
       "      <th>13/04/2024_BP_1</th>\n",
       "      <td>52.0</td>\n",
       "      <td>39.0</td>\n",
       "      <td>115</td>\n",
       "      <td>59.0</td>\n",
       "      <td>43.0</td>\n",
       "      <td>125</td>\n",
       "      <td>2.0</td>\n",
       "      <td>2.0</td>\n",
       "      <td>2</td>\n",
       "    </tr>\n",
       "  </tbody>\n",
       "</table>\n",
       "</div>"
      ],
      "text/plain": [
       "                SPEED             ALTITUDE             PERSONS           \n",
       "                 mean median  max     mean median  max    mean median max\n",
       "day_fuel                                                                 \n",
       "05/04/2024_BP_1  18.0   18.0   43     39.0   39.0   50     3.0    3.0   3\n",
       "05/04/2024_BP_2  14.0   14.0   38     39.0   38.0   50     3.0    3.0   3\n",
       "06/04/2024_BP_1  51.0   44.0  112     46.0   32.0  125     3.0    3.0   3\n",
       "06/04/2024_BP_2  65.0   70.0  126     46.0   27.0  125     1.0    1.0   1\n",
       "13/04/2024_BP_1  52.0   39.0  115     59.0   43.0  125     2.0    2.0   2"
      ]
     },
     "execution_count": 83,
     "metadata": {},
     "output_type": "execute_result"
    }
   ],
   "source": [
    "df[df['FUEL'] == 'BP'].groupby('day_fuel')[['SPEED','ALTITUDE','PERSONS']].agg(['mean', np.median, 'max']).round(0)"
   ]
  },
  {
   "cell_type": "code",
   "execution_count": 134,
   "metadata": {},
   "outputs": [],
   "source": [
    "agg_c = {'SPEED': ['mean', 'median', 'max'], \n",
    "         'ALTITUDE': ['mean', 'median','max'],\n",
    "         'PERSONS': ['max'], \n",
    "         'TEMPERATURE': 'mean'}"
   ]
  },
  {
   "cell_type": "code",
   "execution_count": 135,
   "metadata": {},
   "outputs": [
    {
     "name": "stdout",
     "output_type": "stream",
     "text": [
      "                SPEED             ALTITUDE             PERSONS TEMPERATURE\n",
      "                 mean median  max     mean median  max     max        mean\n",
      "day_d                                                                     \n",
      "05/04/2024_1_BP  18.0   18.0   43     39.0   39.0   50       3        21.0\n",
      "05/04/2024_2_BP  14.0   14.0   38     39.0   38.0   50       3        21.0\n",
      "06/04/2024_1_BP  51.0   44.0  112     46.0   32.0  125       3        22.0\n",
      "06/04/2024_2_BP  65.0   70.0  126     46.0   27.0  125       1        26.0\n",
      "13/04/2024_1_BP  52.0   39.0  115     59.0   43.0  125       2        19.0\n",
      "                    SPEED             ALTITUDE             PERSONS TEMPERATURE\n",
      "                     mean median  max     mean median  max     max        mean\n",
      "day_d                                                                         \n",
      "14/04/2024_1_REPSOL  22.0   19.0   67    104.0  105.0  113       4        22.0\n",
      "14/04/2024_2_REPSOL  41.0   26.0  123     69.0   87.0  125       4        23.0\n",
      "19/04/2024_1_REPSOL  15.0   14.0   48     30.0   30.0   33       1        23.0\n",
      "19/04/2024_2_REPSOL  20.0   21.0   77     30.0   30.0   33       1        23.0\n",
      "20/04/2024_1_REPSOL  55.0   52.0  130     34.0   26.0  125       2        20.0\n",
      "21/04/2024_1_REPSOL  30.0   32.0   62     59.0   62.0  117       4        22.0\n",
      "21/04/2024_2_REPSOL  57.0   66.0  107     81.0   81.0  180       4        24.0\n",
      "21/04/2024_3_REPSOL  24.0   26.0   39     19.0   20.0   34       1        22.0\n",
      "                SPEED             ALTITUDE             PERSONS TEMPERATURE\n",
      "                 mean median  max     mean median  max     max        mean\n",
      "day_d                                                                     \n",
      "03/05/2024_1_V2  14.0   14.0   29     29.0   30.0   33       2        17.0\n",
      "03/05/2024_2_V2  14.0   14.0   29     29.0   30.0   33       1        17.0\n",
      "03/05/2024_3_V2  19.0   20.0   43     22.0   24.0   34       1        22.0\n",
      "21/04/2024_1_V2  26.0   26.0   78     18.0   18.0   34       1        22.0\n",
      "23/04/2024_1_V2  56.0   49.0  128     33.0   25.0  125       1        18.0\n",
      "25/04/2024_1_V2  32.0   24.0   97     44.0   33.0   93       1        20.0\n",
      "25/04/2024_2_V2  38.0   30.0   87     47.0   33.0   89       1        21.0\n",
      "26/04/2024_1_V2  31.0   25.0   97     14.0    8.0   33       1        18.0\n",
      "26/04/2024_2_V2  37.0   32.0   94     11.0    8.0   33       1        22.0\n"
     ]
    }
   ],
   "source": [
    "for i in l_g:\n",
    "    print(df[df['FUEL'] == i].groupby('day_d').agg(agg_c).round(0))"
   ]
  },
  {
   "cell_type": "code",
   "execution_count": 115,
   "metadata": {},
   "outputs": [],
   "source": [
    "def route(fuel):\n",
    "    results = {\n",
    "    'total': df[df['FUEL'] == fuel].groupby('day_fuel')['ROUTE'].count(),\n",
    "    'city_tot': df[(df['FUEL'] == fuel) & (df['ROUTE'] == 'CITY')].groupby('day_fuel')['ROUTE'].count(),\n",
    "    'high_tot': df[(df['FUEL'] == fuel) & (df['ROUTE'] == 'HIGHSPEED')].groupby('day_fuel')['ROUTE'].count()    \n",
    "    }\n",
    "\n",
    "    results_df = pd.DataFrame(results).fillna(0)\n",
    "    results_df.reset_index(inplace=True)\n",
    "\n",
    "    results_df['city_%'] = round(results_df['city_tot']/results_df['total']*100,2)\n",
    "    \n",
    "    return results_df"
   ]
  },
  {
   "cell_type": "code",
   "execution_count": 116,
   "metadata": {},
   "outputs": [
    {
     "data": {
      "text/html": [
       "<div>\n",
       "<style scoped>\n",
       "    .dataframe tbody tr th:only-of-type {\n",
       "        vertical-align: middle;\n",
       "    }\n",
       "\n",
       "    .dataframe tbody tr th {\n",
       "        vertical-align: top;\n",
       "    }\n",
       "\n",
       "    .dataframe thead th {\n",
       "        text-align: right;\n",
       "    }\n",
       "</style>\n",
       "<table border=\"1\" class=\"dataframe\">\n",
       "  <thead>\n",
       "    <tr style=\"text-align: right;\">\n",
       "      <th></th>\n",
       "      <th>day_fuel</th>\n",
       "      <th>total</th>\n",
       "      <th>city_tot</th>\n",
       "      <th>high_tot</th>\n",
       "      <th>city_%</th>\n",
       "    </tr>\n",
       "  </thead>\n",
       "  <tbody>\n",
       "    <tr>\n",
       "      <th>0</th>\n",
       "      <td>05/04/2024_BP_1</td>\n",
       "      <td>43</td>\n",
       "      <td>43</td>\n",
       "      <td>0.0</td>\n",
       "      <td>100.00</td>\n",
       "    </tr>\n",
       "    <tr>\n",
       "      <th>1</th>\n",
       "      <td>05/04/2024_BP_2</td>\n",
       "      <td>59</td>\n",
       "      <td>59</td>\n",
       "      <td>0.0</td>\n",
       "      <td>100.00</td>\n",
       "    </tr>\n",
       "    <tr>\n",
       "      <th>2</th>\n",
       "      <td>06/04/2024_BP_1</td>\n",
       "      <td>46</td>\n",
       "      <td>24</td>\n",
       "      <td>22.0</td>\n",
       "      <td>52.17</td>\n",
       "    </tr>\n",
       "    <tr>\n",
       "      <th>3</th>\n",
       "      <td>06/04/2024_BP_2</td>\n",
       "      <td>55</td>\n",
       "      <td>20</td>\n",
       "      <td>35.0</td>\n",
       "      <td>36.36</td>\n",
       "    </tr>\n",
       "    <tr>\n",
       "      <th>4</th>\n",
       "      <td>13/04/2024_BP_1</td>\n",
       "      <td>83</td>\n",
       "      <td>45</td>\n",
       "      <td>38.0</td>\n",
       "      <td>54.22</td>\n",
       "    </tr>\n",
       "  </tbody>\n",
       "</table>\n",
       "</div>"
      ],
      "text/plain": [
       "          day_fuel  total  city_tot  high_tot  city_%\n",
       "0  05/04/2024_BP_1     43        43       0.0  100.00\n",
       "1  05/04/2024_BP_2     59        59       0.0  100.00\n",
       "2  06/04/2024_BP_1     46        24      22.0   52.17\n",
       "3  06/04/2024_BP_2     55        20      35.0   36.36\n",
       "4  13/04/2024_BP_1     83        45      38.0   54.22"
      ]
     },
     "execution_count": 116,
     "metadata": {},
     "output_type": "execute_result"
    }
   ],
   "source": [
    "route('BP')"
   ]
  },
  {
   "cell_type": "code",
   "execution_count": null,
   "metadata": {},
   "outputs": [],
   "source": []
  }
 ],
 "metadata": {
  "kernelspec": {
   "display_name": "base",
   "language": "python",
   "name": "python3"
  },
  "language_info": {
   "codemirror_mode": {
    "name": "ipython",
    "version": 3
   },
   "file_extension": ".py",
   "mimetype": "text/x-python",
   "name": "python",
   "nbconvert_exporter": "python",
   "pygments_lexer": "ipython3",
   "version": "3.11.6"
  }
 },
 "nbformat": 4,
 "nbformat_minor": 2
}
