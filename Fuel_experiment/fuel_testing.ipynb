{
 "cells": [
  {
   "cell_type": "code",
   "execution_count": 2,
   "metadata": {},
   "outputs": [],
   "source": [
    "import pandas as pd\n",
    "import numpy as np"
   ]
  },
  {
   "cell_type": "code",
   "execution_count": 2,
   "metadata": {},
   "outputs": [],
   "source": [
    "df = pd.read_csv(\"2c.csv\", delimiter=\";\")\n",
    "df[\"TIMESTAMP\"] = pd.to_datetime(df[\"TIMESTAMP\"], format=\"%d/%m/%Y %H:%M\")"
   ]
  },
  {
   "cell_type": "code",
   "execution_count": 3,
   "metadata": {},
   "outputs": [
    {
     "name": "stderr",
     "output_type": "stream",
     "text": [
      "C:\\Users\\canut\\AppData\\Local\\Temp\\ipykernel_1096\\1881467328.py:2: FutureWarning: Series.fillna with 'method' is deprecated and will raise in a future version. Use obj.ffill() or obj.bfill() instead.\n",
      "  df[i].fillna(method='ffill', inplace=True)\n"
     ]
    }
   ],
   "source": [
    "for i in [\"TRIP\", \"TEMPERATURE\", \"FUEL\", \"PERSONS\"]:\n",
    "    df[i].fillna(method=\"ffill\", inplace=True)"
   ]
  },
  {
   "cell_type": "code",
   "execution_count": 6,
   "metadata": {},
   "outputs": [],
   "source": [
    "df[\"ALTITUDE\"].fillna(\n",
    "    df[\"ALTITUDE\"].rolling(window=15, min_periods=1).mean(), inplace=True\n",
    ")\n",
    "\n",
    "\n",
    "\n",
    "df[\"ALTITUDE\"] = df[\"ALTITUDE\"].round(0)"
   ]
  },
  {
   "cell_type": "code",
   "execution_count": 7,
   "metadata": {},
   "outputs": [],
   "source": [
    "dn = list(df.select_dtypes(include=np.number).columns)\n",
    "\n",
    "for i in dn:\n",
    "    df[i] = df[i].astype(int)"
   ]
  },
  {
   "cell_type": "code",
   "execution_count": 8,
   "metadata": {},
   "outputs": [
    {
     "data": {
      "text/plain": [
       "Index([], dtype='int64')"
      ]
     },
     "execution_count": 8,
     "metadata": {},
     "output_type": "execute_result"
    }
   ],
   "source": [
    "df[df[\"ALTITUDE\"].isna()].index"
   ]
  },
  {
   "cell_type": "code",
   "execution_count": 31,
   "metadata": {},
   "outputs": [],
   "source": [
    "for i in [366, 367]:\n",
    "    df.at[i, \"ALTITUDE\"] = 106"
   ]
  },
  {
   "cell_type": "code",
   "execution_count": 33,
   "metadata": {},
   "outputs": [],
   "source": [
    "df.at[387, \"ALTITUDE\"] = 98"
   ]
  },
  {
   "cell_type": "code",
   "execution_count": 9,
   "metadata": {},
   "outputs": [],
   "source": [
    "df.to_csv(\"test_clean_2.csv\")"
   ]
  },
  {
   "cell_type": "code",
   "execution_count": 46,
   "metadata": {},
   "outputs": [],
   "source": [
    "list_t = list(df[df[\"TIMESTAMP\"].notnull()].index)"
   ]
  },
  {
   "cell_type": "code",
   "execution_count": 55,
   "metadata": {},
   "outputs": [
    {
     "data": {
      "text/html": [
       "<div>\n",
       "<style scoped>\n",
       "    .dataframe tbody tr th:only-of-type {\n",
       "        vertical-align: middle;\n",
       "    }\n",
       "\n",
       "    .dataframe tbody tr th {\n",
       "        vertical-align: top;\n",
       "    }\n",
       "\n",
       "    .dataframe thead th {\n",
       "        text-align: right;\n",
       "    }\n",
       "</style>\n",
       "<table border=\"1\" class=\"dataframe\">\n",
       "  <thead>\n",
       "    <tr style=\"text-align: right;\">\n",
       "      <th></th>\n",
       "      <th>Unnamed: 0</th>\n",
       "      <th>TIMESTAMP</th>\n",
       "      <th>SPEED</th>\n",
       "      <th>ALTITUDE</th>\n",
       "      <th>TRIP</th>\n",
       "      <th>TEMPERATURE</th>\n",
       "      <th>FUEL</th>\n",
       "      <th>PERSONS</th>\n",
       "    </tr>\n",
       "  </thead>\n",
       "  <tbody>\n",
       "    <tr>\n",
       "      <th>0</th>\n",
       "      <td>0</td>\n",
       "      <td>2024-04-05 18:01:00</td>\n",
       "      <td>5</td>\n",
       "      <td>30.0</td>\n",
       "      <td>GO</td>\n",
       "      <td>21.0</td>\n",
       "      <td>BP</td>\n",
       "      <td>3.0</td>\n",
       "    </tr>\n",
       "    <tr>\n",
       "      <th>42</th>\n",
       "      <td>42</td>\n",
       "      <td>2024-04-05 18:18:00</td>\n",
       "      <td>0</td>\n",
       "      <td>46.0</td>\n",
       "      <td>GO</td>\n",
       "      <td>21.0</td>\n",
       "      <td>BP</td>\n",
       "      <td>3.0</td>\n",
       "    </tr>\n",
       "    <tr>\n",
       "      <th>43</th>\n",
       "      <td>43</td>\n",
       "      <td>2024-04-05 18:47:00</td>\n",
       "      <td>0</td>\n",
       "      <td>46.0</td>\n",
       "      <td>RETURN</td>\n",
       "      <td>21.0</td>\n",
       "      <td>BP</td>\n",
       "      <td>3.0</td>\n",
       "    </tr>\n",
       "    <tr>\n",
       "      <th>101</th>\n",
       "      <td>101</td>\n",
       "      <td>2024-04-05 19:00:00</td>\n",
       "      <td>0</td>\n",
       "      <td>30.0</td>\n",
       "      <td>RETURN</td>\n",
       "      <td>21.0</td>\n",
       "      <td>BP</td>\n",
       "      <td>3.0</td>\n",
       "    </tr>\n",
       "    <tr>\n",
       "      <th>102</th>\n",
       "      <td>102</td>\n",
       "      <td>2024-04-06 09:18:00</td>\n",
       "      <td>0</td>\n",
       "      <td>33.0</td>\n",
       "      <td>GO</td>\n",
       "      <td>22.0</td>\n",
       "      <td>BP</td>\n",
       "      <td>3.0</td>\n",
       "    </tr>\n",
       "    <tr>\n",
       "      <th>147</th>\n",
       "      <td>147</td>\n",
       "      <td>2024-04-06 10:02:00</td>\n",
       "      <td>0</td>\n",
       "      <td>105.0</td>\n",
       "      <td>GO</td>\n",
       "      <td>22.0</td>\n",
       "      <td>BP</td>\n",
       "      <td>3.0</td>\n",
       "    </tr>\n",
       "    <tr>\n",
       "      <th>148</th>\n",
       "      <td>148</td>\n",
       "      <td>2024-04-06 10:15:00</td>\n",
       "      <td>0</td>\n",
       "      <td>105.0</td>\n",
       "      <td>RETURN</td>\n",
       "      <td>26.0</td>\n",
       "      <td>BP</td>\n",
       "      <td>1.0</td>\n",
       "    </tr>\n",
       "    <tr>\n",
       "      <th>202</th>\n",
       "      <td>202</td>\n",
       "      <td>2024-04-06 11:27:00</td>\n",
       "      <td>0</td>\n",
       "      <td>33.0</td>\n",
       "      <td>RETURN</td>\n",
       "      <td>26.0</td>\n",
       "      <td>BP</td>\n",
       "      <td>1.0</td>\n",
       "    </tr>\n",
       "    <tr>\n",
       "      <th>203</th>\n",
       "      <td>203</td>\n",
       "      <td>2024-04-13 10:31:00</td>\n",
       "      <td>0</td>\n",
       "      <td>33.0</td>\n",
       "      <td>GO</td>\n",
       "      <td>19.0</td>\n",
       "      <td>BP</td>\n",
       "      <td>2.0</td>\n",
       "    </tr>\n",
       "    <tr>\n",
       "      <th>286</th>\n",
       "      <td>286</td>\n",
       "      <td>2024-05-14 13:50:00</td>\n",
       "      <td>0</td>\n",
       "      <td>105.0</td>\n",
       "      <td>GO</td>\n",
       "      <td>22.0</td>\n",
       "      <td>REPSOL</td>\n",
       "      <td>4.0</td>\n",
       "    </tr>\n",
       "    <tr>\n",
       "      <th>344</th>\n",
       "      <td>344</td>\n",
       "      <td>2024-04-14 14:01:00</td>\n",
       "      <td>0</td>\n",
       "      <td>105.0</td>\n",
       "      <td>GO</td>\n",
       "      <td>22.0</td>\n",
       "      <td>REPSOL</td>\n",
       "      <td>4.0</td>\n",
       "    </tr>\n",
       "    <tr>\n",
       "      <th>345</th>\n",
       "      <td>345</td>\n",
       "      <td>2024-05-14 15:19:00</td>\n",
       "      <td>0</td>\n",
       "      <td>105.0</td>\n",
       "      <td>RETURN</td>\n",
       "      <td>23.0</td>\n",
       "      <td>REPSOL</td>\n",
       "      <td>4.0</td>\n",
       "    </tr>\n",
       "    <tr>\n",
       "      <th>405</th>\n",
       "      <td>405</td>\n",
       "      <td>2024-05-14 15:32:00</td>\n",
       "      <td>0</td>\n",
       "      <td>105.0</td>\n",
       "      <td>RETURN</td>\n",
       "      <td>23.0</td>\n",
       "      <td>REPSOL</td>\n",
       "      <td>4.0</td>\n",
       "    </tr>\n",
       "  </tbody>\n",
       "</table>\n",
       "</div>"
      ],
      "text/plain": [
       "     Unnamed: 0            TIMESTAMP  SPEED  ALTITUDE    TRIP  TEMPERATURE  \\\n",
       "0             0  2024-04-05 18:01:00      5      30.0      GO         21.0   \n",
       "42           42  2024-04-05 18:18:00      0      46.0      GO         21.0   \n",
       "43           43  2024-04-05 18:47:00      0      46.0  RETURN         21.0   \n",
       "101         101  2024-04-05 19:00:00      0      30.0  RETURN         21.0   \n",
       "102         102  2024-04-06 09:18:00      0      33.0      GO         22.0   \n",
       "147         147  2024-04-06 10:02:00      0     105.0      GO         22.0   \n",
       "148         148  2024-04-06 10:15:00      0     105.0  RETURN         26.0   \n",
       "202         202  2024-04-06 11:27:00      0      33.0  RETURN         26.0   \n",
       "203         203  2024-04-13 10:31:00      0      33.0      GO         19.0   \n",
       "286         286  2024-05-14 13:50:00      0     105.0      GO         22.0   \n",
       "344         344  2024-04-14 14:01:00      0     105.0      GO         22.0   \n",
       "345         345  2024-05-14 15:19:00      0     105.0  RETURN         23.0   \n",
       "405         405  2024-05-14 15:32:00      0     105.0  RETURN         23.0   \n",
       "\n",
       "       FUEL  PERSONS  \n",
       "0        BP      3.0  \n",
       "42       BP      3.0  \n",
       "43       BP      3.0  \n",
       "101      BP      3.0  \n",
       "102      BP      3.0  \n",
       "147      BP      3.0  \n",
       "148      BP      1.0  \n",
       "202      BP      1.0  \n",
       "203      BP      2.0  \n",
       "286  REPSOL      4.0  \n",
       "344  REPSOL      4.0  \n",
       "345  REPSOL      4.0  \n",
       "405  REPSOL      4.0  "
      ]
     },
     "execution_count": 55,
     "metadata": {},
     "output_type": "execute_result"
    }
   ],
   "source": [
    "df[df[\"TIMESTAMP\"].notnull()]"
   ]
  },
  {
   "cell_type": "code",
   "execution_count": 150,
   "metadata": {},
   "outputs": [
    {
     "data": {
      "text/html": [
       "<div>\n",
       "<style scoped>\n",
       "    .dataframe tbody tr th:only-of-type {\n",
       "        vertical-align: middle;\n",
       "    }\n",
       "\n",
       "    .dataframe tbody tr th {\n",
       "        vertical-align: top;\n",
       "    }\n",
       "\n",
       "    .dataframe thead th {\n",
       "        text-align: right;\n",
       "    }\n",
       "</style>\n",
       "<table border=\"1\" class=\"dataframe\">\n",
       "  <thead>\n",
       "    <tr style=\"text-align: right;\">\n",
       "      <th></th>\n",
       "      <th>Unnamed: 0</th>\n",
       "      <th>TIMESTAMP</th>\n",
       "      <th>SPEED</th>\n",
       "      <th>ALTITUDE</th>\n",
       "      <th>TRIP</th>\n",
       "      <th>TEMPERATURE</th>\n",
       "      <th>FUEL</th>\n",
       "      <th>PERSONS</th>\n",
       "    </tr>\n",
       "  </thead>\n",
       "  <tbody>\n",
       "    <tr>\n",
       "      <th>0</th>\n",
       "      <td>0</td>\n",
       "      <td>2024-04-14 16:06:00</td>\n",
       "      <td>0</td>\n",
       "      <td>105</td>\n",
       "      <td>RETURN</td>\n",
       "      <td>23</td>\n",
       "      <td>REPSOL</td>\n",
       "      <td>2</td>\n",
       "    </tr>\n",
       "    <tr>\n",
       "      <th>1</th>\n",
       "      <td>1</td>\n",
       "      <td>NaT</td>\n",
       "      <td>4</td>\n",
       "      <td>105</td>\n",
       "      <td>RETURN</td>\n",
       "      <td>23</td>\n",
       "      <td>REPSOL</td>\n",
       "      <td>2</td>\n",
       "    </tr>\n",
       "    <tr>\n",
       "      <th>2</th>\n",
       "      <td>2</td>\n",
       "      <td>NaT</td>\n",
       "      <td>8</td>\n",
       "      <td>105</td>\n",
       "      <td>RETURN</td>\n",
       "      <td>23</td>\n",
       "      <td>REPSOL</td>\n",
       "      <td>2</td>\n",
       "    </tr>\n",
       "    <tr>\n",
       "      <th>3</th>\n",
       "      <td>3</td>\n",
       "      <td>NaT</td>\n",
       "      <td>3</td>\n",
       "      <td>106</td>\n",
       "      <td>RETURN</td>\n",
       "      <td>23</td>\n",
       "      <td>REPSOL</td>\n",
       "      <td>2</td>\n",
       "    </tr>\n",
       "    <tr>\n",
       "      <th>4</th>\n",
       "      <td>4</td>\n",
       "      <td>NaT</td>\n",
       "      <td>3</td>\n",
       "      <td>106</td>\n",
       "      <td>RETURN</td>\n",
       "      <td>23</td>\n",
       "      <td>REPSOL</td>\n",
       "      <td>2</td>\n",
       "    </tr>\n",
       "    <tr>\n",
       "      <th>...</th>\n",
       "      <td>...</td>\n",
       "      <td>...</td>\n",
       "      <td>...</td>\n",
       "      <td>...</td>\n",
       "      <td>...</td>\n",
       "      <td>...</td>\n",
       "      <td>...</td>\n",
       "      <td>...</td>\n",
       "    </tr>\n",
       "    <tr>\n",
       "      <th>218</th>\n",
       "      <td>218</td>\n",
       "      <td>NaT</td>\n",
       "      <td>72</td>\n",
       "      <td>29</td>\n",
       "      <td>RETURN</td>\n",
       "      <td>23</td>\n",
       "      <td>REPSOL</td>\n",
       "      <td>1</td>\n",
       "    </tr>\n",
       "    <tr>\n",
       "      <th>219</th>\n",
       "      <td>219</td>\n",
       "      <td>NaT</td>\n",
       "      <td>12</td>\n",
       "      <td>29</td>\n",
       "      <td>RETURN</td>\n",
       "      <td>23</td>\n",
       "      <td>REPSOL</td>\n",
       "      <td>1</td>\n",
       "    </tr>\n",
       "    <tr>\n",
       "      <th>220</th>\n",
       "      <td>220</td>\n",
       "      <td>NaT</td>\n",
       "      <td>3</td>\n",
       "      <td>29</td>\n",
       "      <td>RETURN</td>\n",
       "      <td>23</td>\n",
       "      <td>REPSOL</td>\n",
       "      <td>1</td>\n",
       "    </tr>\n",
       "    <tr>\n",
       "      <th>221</th>\n",
       "      <td>221</td>\n",
       "      <td>NaT</td>\n",
       "      <td>2</td>\n",
       "      <td>29</td>\n",
       "      <td>RETURN</td>\n",
       "      <td>23</td>\n",
       "      <td>REPSOL</td>\n",
       "      <td>1</td>\n",
       "    </tr>\n",
       "    <tr>\n",
       "      <th>222</th>\n",
       "      <td>222</td>\n",
       "      <td>2024-04-19 16:57:00</td>\n",
       "      <td>0</td>\n",
       "      <td>33</td>\n",
       "      <td>RETURN</td>\n",
       "      <td>23</td>\n",
       "      <td>REPSOL</td>\n",
       "      <td>1</td>\n",
       "    </tr>\n",
       "  </tbody>\n",
       "</table>\n",
       "<p>223 rows × 8 columns</p>\n",
       "</div>"
      ],
      "text/plain": [
       "     Unnamed: 0           TIMESTAMP  SPEED  ALTITUDE    TRIP  TEMPERATURE  \\\n",
       "0             0 2024-04-14 16:06:00      0       105  RETURN           23   \n",
       "1             1                 NaT      4       105  RETURN           23   \n",
       "2             2                 NaT      8       105  RETURN           23   \n",
       "3             3                 NaT      3       106  RETURN           23   \n",
       "4             4                 NaT      3       106  RETURN           23   \n",
       "..          ...                 ...    ...       ...     ...          ...   \n",
       "218         218                 NaT     72        29  RETURN           23   \n",
       "219         219                 NaT     12        29  RETURN           23   \n",
       "220         220                 NaT      3        29  RETURN           23   \n",
       "221         221                 NaT      2        29  RETURN           23   \n",
       "222         222 2024-04-19 16:57:00      0        33  RETURN           23   \n",
       "\n",
       "       FUEL  PERSONS  \n",
       "0    REPSOL        2  \n",
       "1    REPSOL        2  \n",
       "2    REPSOL        2  \n",
       "3    REPSOL        2  \n",
       "4    REPSOL        2  \n",
       "..      ...      ...  \n",
       "218  REPSOL        1  \n",
       "219  REPSOL        1  \n",
       "220  REPSOL        1  \n",
       "221  REPSOL        1  \n",
       "222  REPSOL        1  \n",
       "\n",
       "[223 rows x 8 columns]"
      ]
     },
     "execution_count": 150,
     "metadata": {},
     "output_type": "execute_result"
    }
   ],
   "source": [
    "df"
   ]
  },
  {
   "cell_type": "code",
   "execution_count": 149,
   "metadata": {},
   "outputs": [],
   "source": [
    "df = pd.read_csv(\"test_clean_2.csv\", delimiter=\",\")\n",
    "df[\"TIMESTAMP\"] = pd.to_datetime(df[\"TIMESTAMP\"], format=\"%Y-%m-%d %H:%M:%S\")\n",
    "\n",
    "df[\"TIMESTAMP\"] = pd.to_datetime(df[\"TIMESTAMP\"], format=\"%d/%m/%Y %H:%M:%S\")"
   ]
  },
  {
   "cell_type": "code",
   "execution_count": 151,
   "metadata": {},
   "outputs": [
    {
     "data": {
      "text/plain": [
       "Index([0, 95, 96, 165, 166, 222], dtype='int64')"
      ]
     },
     "execution_count": 151,
     "metadata": {},
     "output_type": "execute_result"
    }
   ],
   "source": [
    "lr = df[df[\"TIMESTAMP\"].notnull()].index\n",
    "lr"
   ]
  },
  {
   "cell_type": "code",
   "execution_count": 135,
   "metadata": {},
   "outputs": [],
   "source": [
    "def get_even_lists(lst):\n",
    "    even_pos = []\n",
    "    odd_pos = []\n",
    "    lim = len(lst)\n",
    "\n",
    "    for i in range(len(lst)):\n",
    "        if i % 2 == 1:\n",
    "            odd_pos.append(lst[i])\n",
    "        else:\n",
    "            even_pos.append(lst[i])\n",
    "    return odd_pos, even_pos"
   ]
  },
  {
   "cell_type": "code",
   "execution_count": 152,
   "metadata": {},
   "outputs": [
    {
     "data": {
      "text/plain": [
       "([95, 165, 222], [0, 96, 166])"
      ]
     },
     "execution_count": 152,
     "metadata": {},
     "output_type": "execute_result"
    }
   ],
   "source": [
    "odd_l, even_l = get_even_lists(lr)\n",
    "odd_l, even_l"
   ]
  },
  {
   "cell_type": "code",
   "execution_count": 153,
   "metadata": {},
   "outputs": [
    {
     "name": "stdout",
     "output_type": "stream",
     "text": [
      "2024-04-14 16:59:00\n",
      "2024-04-19 16:18:00\n",
      "2024-04-19 16:57:00\n"
     ]
    }
   ],
   "source": [
    "lg = []\n",
    "for i, j in zip(even_l, odd_l):\n",
    "    l_i = pd.date_range(\n",
    "        start=pd.to_datetime(str(df[\"TIMESTAMP\"][i])),\n",
    "        end=pd.to_datetime(str(df[\"TIMESTAMP\"][j])),\n",
    "        periods=(j - i + 1),\n",
    "    ).round(freq=\"min\")\n",
    "    print(l_i[-1])\n",
    "    lg.append(l_i)\n",
    "\n",
    "ld = [x for xs in lg for x in xs]\n",
    "df[\"TIMESTAMP\"] = ld"
   ]
  },
  {
   "cell_type": "code",
   "execution_count": 154,
   "metadata": {},
   "outputs": [],
   "source": [
    "df.drop(\"Unnamed: 0\", axis=1, inplace=True)"
   ]
  },
  {
   "cell_type": "code",
   "execution_count": 155,
   "metadata": {},
   "outputs": [
    {
     "data": {
      "text/html": [
       "<div>\n",
       "<style scoped>\n",
       "    .dataframe tbody tr th:only-of-type {\n",
       "        vertical-align: middle;\n",
       "    }\n",
       "\n",
       "    .dataframe tbody tr th {\n",
       "        vertical-align: top;\n",
       "    }\n",
       "\n",
       "    .dataframe thead th {\n",
       "        text-align: right;\n",
       "    }\n",
       "</style>\n",
       "<table border=\"1\" class=\"dataframe\">\n",
       "  <thead>\n",
       "    <tr style=\"text-align: right;\">\n",
       "      <th></th>\n",
       "      <th>TIMESTAMP</th>\n",
       "      <th>SPEED</th>\n",
       "      <th>ALTITUDE</th>\n",
       "      <th>TRIP</th>\n",
       "      <th>TEMPERATURE</th>\n",
       "      <th>FUEL</th>\n",
       "      <th>PERSONS</th>\n",
       "    </tr>\n",
       "  </thead>\n",
       "  <tbody>\n",
       "    <tr>\n",
       "      <th>0</th>\n",
       "      <td>2024-04-14 16:06:00</td>\n",
       "      <td>0</td>\n",
       "      <td>105</td>\n",
       "      <td>RETURN</td>\n",
       "      <td>23</td>\n",
       "      <td>REPSOL</td>\n",
       "      <td>2</td>\n",
       "    </tr>\n",
       "    <tr>\n",
       "      <th>1</th>\n",
       "      <td>2024-04-14 16:07:00</td>\n",
       "      <td>4</td>\n",
       "      <td>105</td>\n",
       "      <td>RETURN</td>\n",
       "      <td>23</td>\n",
       "      <td>REPSOL</td>\n",
       "      <td>2</td>\n",
       "    </tr>\n",
       "    <tr>\n",
       "      <th>2</th>\n",
       "      <td>2024-04-14 16:07:00</td>\n",
       "      <td>8</td>\n",
       "      <td>105</td>\n",
       "      <td>RETURN</td>\n",
       "      <td>23</td>\n",
       "      <td>REPSOL</td>\n",
       "      <td>2</td>\n",
       "    </tr>\n",
       "    <tr>\n",
       "      <th>3</th>\n",
       "      <td>2024-04-14 16:08:00</td>\n",
       "      <td>3</td>\n",
       "      <td>106</td>\n",
       "      <td>RETURN</td>\n",
       "      <td>23</td>\n",
       "      <td>REPSOL</td>\n",
       "      <td>2</td>\n",
       "    </tr>\n",
       "    <tr>\n",
       "      <th>4</th>\n",
       "      <td>2024-04-14 16:08:00</td>\n",
       "      <td>3</td>\n",
       "      <td>106</td>\n",
       "      <td>RETURN</td>\n",
       "      <td>23</td>\n",
       "      <td>REPSOL</td>\n",
       "      <td>2</td>\n",
       "    </tr>\n",
       "  </tbody>\n",
       "</table>\n",
       "</div>"
      ],
      "text/plain": [
       "            TIMESTAMP  SPEED  ALTITUDE    TRIP  TEMPERATURE    FUEL  PERSONS\n",
       "0 2024-04-14 16:06:00      0       105  RETURN           23  REPSOL        2\n",
       "1 2024-04-14 16:07:00      4       105  RETURN           23  REPSOL        2\n",
       "2 2024-04-14 16:07:00      8       105  RETURN           23  REPSOL        2\n",
       "3 2024-04-14 16:08:00      3       106  RETURN           23  REPSOL        2\n",
       "4 2024-04-14 16:08:00      3       106  RETURN           23  REPSOL        2"
      ]
     },
     "execution_count": 155,
     "metadata": {},
     "output_type": "execute_result"
    }
   ],
   "source": [
    "df.head()"
   ]
  },
  {
   "cell_type": "code",
   "execution_count": 156,
   "metadata": {},
   "outputs": [],
   "source": [
    "df_2 = df.copy()"
   ]
  },
  {
   "cell_type": "code",
   "execution_count": 160,
   "metadata": {},
   "outputs": [
    {
     "data": {
      "text/plain": [
       "(223, 7)"
      ]
     },
     "execution_count": 160,
     "metadata": {},
     "output_type": "execute_result"
    }
   ],
   "source": [
    "df_2.shape"
   ]
  },
  {
   "cell_type": "code",
   "execution_count": 162,
   "metadata": {},
   "outputs": [
    {
     "data": {
      "text/plain": [
       "(629, 7)"
      ]
     },
     "execution_count": 162,
     "metadata": {},
     "output_type": "execute_result"
    }
   ],
   "source": [
    "df_glo.shape"
   ]
  },
  {
   "cell_type": "code",
   "execution_count": 161,
   "metadata": {},
   "outputs": [],
   "source": [
    "df_glo = pd.concat([df_1, df_2], axis=0)"
   ]
  },
  {
   "cell_type": "code",
   "execution_count": 163,
   "metadata": {},
   "outputs": [],
   "source": [
    "df_glo.to_csv(\"final_1.csv\")"
   ]
  }
 ],
 "metadata": {
  "kernelspec": {
   "display_name": "base",
   "language": "python",
   "name": "python3"
  },
  "language_info": {
   "codemirror_mode": {
    "name": "ipython",
    "version": 3
   },
   "file_extension": ".py",
   "mimetype": "text/x-python",
   "name": "python",
   "nbconvert_exporter": "python",
   "pygments_lexer": "ipython3",
   "version": "3.11.5"
  }
 },
 "nbformat": 4,
 "nbformat_minor": 2
}
