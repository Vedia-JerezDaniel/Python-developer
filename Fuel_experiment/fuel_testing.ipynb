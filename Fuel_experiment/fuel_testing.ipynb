{
 "cells": [
  {
   "cell_type": "code",
   "execution_count": 2,
   "metadata": {},
   "outputs": [],
   "source": [
    "import pandas as pd\n",
    "import numpy as np"
   ]
  },
  {
   "cell_type": "code",
   "execution_count": 2,
   "metadata": {},
   "outputs": [],
   "source": [
    "df = pd.read_csv(\"2c.csv\", delimiter=\";\")\n",
    "df[\"TIMESTAMP\"] = pd.to_datetime(df[\"TIMESTAMP\"], format=\"%d/%m/%Y %H:%M\")"
   ]
  },
  {
   "cell_type": "code",
   "execution_count": 3,
   "metadata": {},
   "outputs": [
    {
     "name": "stderr",
     "output_type": "stream",
     "text": [
      "C:\\Users\\canut\\AppData\\Local\\Temp\\ipykernel_1096\\1881467328.py:2: FutureWarning: Series.fillna with 'method' is deprecated and will raise in a future version. Use obj.ffill() or obj.bfill() instead.\n",
      "  df[i].fillna(method='ffill', inplace=True)\n"
     ]
    }
   ],
   "source": [
    "for i in [\"TRIP\", \"TEMPERATURE\", \"FUEL\", \"PERSONS\"]:\n",
    "    df[i].fillna(method=\"ffill\", inplace=True)"
   ]
  },
  {
   "cell_type": "code",
   "execution_count": 6,
   "metadata": {},
   "outputs": [],
   "source": [
    "df[\"ALTITUDE\"].fillna(\n",
    "    df[\"ALTITUDE\"].rolling(window=15, min_periods=1).mean(), inplace=True\n",
    ")\n",
    "\n",
    "\n",
    "df[\"ALTITUDE\"] = df[\"ALTITUDE\"].round(0)"
   ]
  },
  {
   "cell_type": "code",
   "execution_count": 7,
   "metadata": {},
   "outputs": [],
   "source": [
    "dn = list(df.select_dtypes(include=np.number).columns)\n",
    "\n",
    "for i in dn:\n",
    "    df[i] = df[i].astype(int)"
   ]
  },
  {
   "cell_type": "code",
   "execution_count": 8,
   "metadata": {},
   "outputs": [
    {
     "data": {
      "text/plain": [
       "Index([], dtype='int64')"
      ]
     },
     "execution_count": 8,
     "metadata": {},
     "output_type": "execute_result"
    }
   ],
   "source": [
    "df[df[\"ALTITUDE\"].isna()].index"
   ]
  },
  {
   "cell_type": "code",
   "execution_count": 31,
   "metadata": {},
   "outputs": [],
   "source": [
    "for i in [366, 367]:\n",
    "    df.at[i, \"ALTITUDE\"] = 106"
   ]
  },
  {
   "cell_type": "code",
   "execution_count": 33,
   "metadata": {},
   "outputs": [],
   "source": [
    "df.at[387, \"ALTITUDE\"] = 98"
   ]
  },
  {
   "cell_type": "code",
   "execution_count": 9,
   "metadata": {},
   "outputs": [],
   "source": [
    "df.to_csv(\"test_clean_2.csv\")"
   ]
  },
  {
   "cell_type": "code",
   "execution_count": 46,
   "metadata": {},
   "outputs": [],
   "source": [
    "list_t = list(df[df[\"TIMESTAMP\"].notnull()].index)"
   ]
  },
  {
   "cell_type": "code",
   "execution_count": 47,
   "metadata": {},
   "outputs": [
    {
     "data": {
      "text/plain": [
       "[0, 42, 43, 101, 102, 147, 148, 202, 203, 286, 344, 345, 405]"
      ]
     },
     "execution_count": 47,
     "metadata": {},
     "output_type": "execute_result"
    }
   ],
   "source": [
    "list_t"
   ]
  },
  {
   "cell_type": "code",
   "execution_count": 41,
   "metadata": {},
   "outputs": [
    {
     "data": {
      "text/plain": [
       "DatetimeIndex(['1900-01-01 18:01:00', '1900-01-01 18:02:40',\n",
       "               '1900-01-01 18:04:20', '1900-01-01 18:06:00',\n",
       "               '1900-01-01 18:07:40', '1900-01-01 18:09:20',\n",
       "               '1900-01-01 18:11:00'],\n",
       "              dtype='datetime64[ns]', freq=None)"
      ]
     },
     "execution_count": 41,
     "metadata": {},
     "output_type": "execute_result"
    }
   ],
   "source": [
    "pd.date_range(\n",
    "    start=pd.to_datetime(str(df[\"Timestamp\"][0])),\n",
    "    end=pd.to_datetime(str(df[\"Timestamp\"][6])),\n",
    "    periods=7,\n",
    ")"
   ]
  },
  {
   "cell_type": "code",
   "execution_count": null,
   "metadata": {},
   "outputs": [],
   "source": []
  },
  {
   "cell_type": "code",
   "execution_count": 5,
   "metadata": {},
   "outputs": [],
   "source": [
    "df = pd.read_csv(\"test_clean.csv\", delimiter=\",\")\n",
    "# df['TIMESTAMP'] = pd.to_datetime(df['TIMESTAMP'], format='%d/%m/%Y %H:%M')"
   ]
  },
  {
   "cell_type": "code",
   "execution_count": 11,
   "metadata": {},
   "outputs": [
    {
     "data": {
      "text/plain": [
       "Index([0, 42, 43, 101, 102, 147, 148, 202, 203, 286, 344, 345, 405], dtype='int64')"
      ]
     },
     "execution_count": 11,
     "metadata": {},
     "output_type": "execute_result"
    }
   ],
   "source": [
    "lr = df[df[\"TIMESTAMP\"].notnull()].index\n",
    "lr"
   ]
  },
  {
   "cell_type": "code",
   "execution_count": 37,
   "metadata": {},
   "outputs": [],
   "source": [
    "def get_even_lists(lst):\n",
    "    even_pos = []\n",
    "    odd_pos = []\n",
    "    lim = len(lst)\n",
    "\n",
    "    for i in range(len(lst)):\n",
    "        if i % 2 == 1:\n",
    "            odd_pos.append(lst[i])\n",
    "        else:\n",
    "            even_pos.append(lst[i])\n",
    "    return odd_pos, even_pos"
   ]
  },
  {
   "cell_type": "code",
   "execution_count": 38,
   "metadata": {},
   "outputs": [
    {
     "data": {
      "text/plain": [
       "([42, 101, 147, 202, 286, 345], [0, 43, 102, 148, 203, 344, 405])"
      ]
     },
     "execution_count": 38,
     "metadata": {},
     "output_type": "execute_result"
    }
   ],
   "source": [
    "get_even_lists(lr)"
   ]
  },
  {
   "cell_type": "code",
   "execution_count": 14,
   "metadata": {},
   "outputs": [
    {
     "data": {
      "text/plain": [
       "DatetimeIndex(['2024-04-05 18:01:00', '2024-04-05 18:01:00',\n",
       "               '2024-04-05 18:02:00', '2024-04-05 18:02:00',\n",
       "               '2024-04-05 18:03:00', '2024-04-05 18:03:00',\n",
       "               '2024-04-05 18:03:00', '2024-04-05 18:04:00',\n",
       "               '2024-04-05 18:04:00', '2024-04-05 18:05:00',\n",
       "               '2024-04-05 18:05:00', '2024-04-05 18:06:00',\n",
       "               '2024-04-05 18:06:00', '2024-04-05 18:06:00',\n",
       "               '2024-04-05 18:07:00', '2024-04-05 18:07:00',\n",
       "               '2024-04-05 18:08:00', '2024-04-05 18:08:00',\n",
       "               '2024-04-05 18:08:00', '2024-04-05 18:09:00',\n",
       "               '2024-04-05 18:09:00', '2024-04-05 18:10:00',\n",
       "               '2024-04-05 18:10:00', '2024-04-05 18:11:00',\n",
       "               '2024-04-05 18:11:00', '2024-04-05 18:11:00',\n",
       "               '2024-04-05 18:12:00', '2024-04-05 18:12:00',\n",
       "               '2024-04-05 18:13:00', '2024-04-05 18:13:00',\n",
       "               '2024-04-05 18:13:00', '2024-04-05 18:14:00',\n",
       "               '2024-04-05 18:14:00', '2024-04-05 18:15:00',\n",
       "               '2024-04-05 18:15:00', '2024-04-05 18:16:00',\n",
       "               '2024-04-05 18:16:00', '2024-04-05 18:16:00',\n",
       "               '2024-04-05 18:17:00', '2024-04-05 18:17:00',\n",
       "               '2024-04-05 18:18:00', '2024-04-05 18:18:00'],\n",
       "              dtype='datetime64[ns]', freq=None)"
      ]
     },
     "execution_count": 14,
     "metadata": {},
     "output_type": "execute_result"
    }
   ],
   "source": [
    "for pd.date_range(\n",
    "    start=pd.to_datetime(str(df[\"TIMESTAMP\"][0])),\n",
    "    end=pd.to_datetime(str(df[\"TIMESTAMP\"][42])),\n",
    "    periods=(42 - 0),\n",
    ").round(freq=\"min\")"
   ]
  },
  {
   "cell_type": "code",
   "execution_count": null,
   "metadata": {},
   "outputs": [
    {
     "data": {
      "text/plain": [
       "DatetimeIndex(['2024-04-05 18:01:00', '2024-04-05 18:01:00',\n",
       "               '2024-04-05 18:02:00', '2024-04-05 18:02:00',\n",
       "               '2024-04-05 18:03:00', '2024-04-05 18:03:00',\n",
       "               '2024-04-05 18:03:00', '2024-04-05 18:04:00',\n",
       "               '2024-04-05 18:04:00', '2024-04-05 18:05:00',\n",
       "               '2024-04-05 18:05:00', '2024-04-05 18:06:00',\n",
       "               '2024-04-05 18:06:00', '2024-04-05 18:06:00',\n",
       "               '2024-04-05 18:07:00', '2024-04-05 18:07:00',\n",
       "               '2024-04-05 18:08:00', '2024-04-05 18:08:00',\n",
       "               '2024-04-05 18:08:00', '2024-04-05 18:09:00',\n",
       "               '2024-04-05 18:09:00', '2024-04-05 18:10:00',\n",
       "               '2024-04-05 18:10:00', '2024-04-05 18:11:00',\n",
       "               '2024-04-05 18:11:00', '2024-04-05 18:11:00',\n",
       "               '2024-04-05 18:12:00', '2024-04-05 18:12:00',\n",
       "               '2024-04-05 18:13:00', '2024-04-05 18:13:00',\n",
       "               '2024-04-05 18:13:00', '2024-04-05 18:14:00',\n",
       "               '2024-04-05 18:14:00', '2024-04-05 18:15:00',\n",
       "               '2024-04-05 18:15:00', '2024-04-05 18:16:00',\n",
       "               '2024-04-05 18:16:00', '2024-04-05 18:16:00',\n",
       "               '2024-04-05 18:17:00', '2024-04-05 18:17:00',\n",
       "               '2024-04-05 18:18:00', '2024-04-05 18:18:00'],\n",
       "              dtype='datetime64[ns]', freq=None)"
      ]
     },
     "metadata": {},
     "output_type": "display_data"
    }
   ],
   "source": [
    "pd.date_range(\n",
    "    start=pd.to_datetime(str(df[\"TIMESTAMP\"][0])),\n",
    "    end=pd.to_datetime(str(df[\"TIMESTAMP\"][42])),\n",
    "    periods=(42 - 0),\n",
    ").round(freq=\"min\")"
   ]
  },
  {
   "cell_type": "code",
   "execution_count": null,
   "metadata": {},
   "outputs": [],
   "source": []
  },
  {
   "cell_type": "code",
   "execution_count": null,
   "metadata": {},
   "outputs": [],
   "source": []
  }
 ],
 "metadata": {
  "kernelspec": {
   "display_name": "base",
   "language": "python",
   "name": "python3"
  },
  "language_info": {
   "codemirror_mode": {
    "name": "ipython",
    "version": 3
   },
   "file_extension": ".py",
   "mimetype": "text/x-python",
   "name": "python",
   "nbconvert_exporter": "python",
   "pygments_lexer": "ipython3",
   "version": "3.11.5"
  }
 },
 "nbformat": 4,
 "nbformat_minor": 2
}
